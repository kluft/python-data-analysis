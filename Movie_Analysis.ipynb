{
 "cells": [
  {
   "cell_type": "markdown",
   "metadata": {},
   "source": [
    "# Simple Profit Analysis Using IMDB Dataset\n",
    "\n",
    "Imagine that you want to write and direct an independent film, in the process making a small fortune. In order to determine what type of movie you should create you will first need to determine what kind of movie genres make the largest profit. In order to better understand the market, you decide to do some data analysis on the largest \n",
    "profit for movies going back several years. We will have to answer the following questions in order to answer that questsion:\n",
    "\n",
    "1. What are the top 10 largest profiting movie genres, and what year did they come out?\n",
    "2. What are the bottom 10 smallest profiting (negative) movie genres, and what year did they come out?\n",
    "\n",
    "From here the writer/director may be able to make a conclusion on what types of movies are the most profitable in order to create the most profitable story.\n",
    "\n",
    "***The movie_metadata.csv was found on kaggle.com under the user chuansun76***\n",
    "\n"
   ]
  },
  {
   "cell_type": "code",
   "execution_count": 94,
   "metadata": {},
   "outputs": [],
   "source": [
    "# let's import some necessary functions to read in a file\n",
    "import csv\n",
    "new_movie_list = list()\n",
    "clean_movie_list = list()\n",
    "clean_string = list()\n",
    "\n",
    "# load the movie database file we will be working with\n",
    "f = open('movie_metadata.csv','r',encoding='mac_roman', newline='')\n",
    "movie_list = list(csv.reader(f))\n",
    "f.close()\n",
    "#print(movie_list)\n",
    "\n",
    "# We can now view the movie_list variable with all the movies and data associated with it. Lets clean up this data\n",
    "# so we can go ahead and start our analysis.\n",
    "\n",
    "\n",
    "# A lot of this rows we dont really need for example, the colour column, director_facebook_likes, etc. Let's trim down\n",
    "# the data so it is more managable and gather the only potentially useful ones.\n",
    "\n",
    "movie_list = list(((row[1], row[3], row[8], row[9], row[11], row[16], row[22], row[23]) for row in movie_list))\n",
    "\n",
    "# As our calculation depends mainly on gross or budget, if either of those are 0 or blank they should be skipped\n",
    "\n",
    "for movie in movie_list:\n",
    "    if movie[2] == '' or movie[6] == '':\n",
    "        pass\n",
    "    else:\n",
    "        new_movie_list.append(movie)\n",
    "        \n",
    "# We should now clean up so that only alpha numeric symbols are showing for cleanliness\n",
    "def stripNonAlphaNum(text):\n",
    "    import re\n",
    "    return re.sub('[^A-Za-z0-9-|: ]+', '', text)\n",
    "\n",
    "for movie in new_movie_list:\n",
    "    clean_string = list()\n",
    "    for string in movie: \n",
    "        clean_string.append(stripNonAlphaNum(string))\n",
    "    clean_movie_list.append(clean_string)\n",
    "    \n",
    "#print(clean_movie_list)\n",
    "\n"
   ]
  },
  {
   "cell_type": "code",
   "execution_count": 95,
   "metadata": {},
   "outputs": [
    {
     "name": "stdout",
     "output_type": "stream",
     "text": [
      "Top 10 most profitable movies:\n",
      "\n",
      "Movie: Avatar, Genre: Action|Adventure|Fantasy|Sci-Fi\n",
      "Movie: Jurassic World, Genre: Action|Adventure|Sci-Fi|Thriller\n",
      "Movie: Titanic, Genre: Drama|Romance\n",
      "Movie: Star Wars: Episode IV - A New Hope, Genre: Action|Adventure|Fantasy|Sci-Fi\n",
      "Movie: ET the Extra-Terrestrial, Genre: Family|Sci-Fi\n",
      "Movie: The Avengers, Genre: Action|Adventure|Sci-Fi\n",
      "Movie: The Avengers, Genre: Action|Adventure|Sci-Fi\n",
      "Movie: The Lion King, Genre: Adventure|Animation|Drama|Family|Musical\n",
      "Movie: Star Wars: Episode I - The Phantom Menace, Genre: Action|Adventure|Fantasy|Sci-Fi\n",
      "Movie: The Dark Knight, Genre: Action|Crime|Drama|Thriller\n",
      "\n",
      "\n",
      "Top 10 least profitable movies:\n",
      "\n",
      "Movie: The Host, Genre: Comedy|Drama|Horror|Sci-Fi\n",
      "Movie: Lady Vengeance, Genre: Crime|Drama\n",
      "Movie: Fateless, Genre: Drama|Romance|War\n",
      "Movie: Princess Mononoke, Genre: Adventure|Animation|Fantasy\n",
      "Movie: Steamboy, Genre: Action|Adventure|Animation|Family|Sci-Fi|Thriller\n",
      "Movie: Akira, Genre: Action|Animation|Sci-Fi\n",
      "Movie: Godzilla 2000, Genre: Action|Adventure|Drama|Sci-Fi|Thriller\n",
      "Movie: Tango, Genre: Drama|Musical\n",
      "Movie: Kabhi Alvida Naa Kehna, Genre: Drama\n",
      "Movie: Kites, Genre: Action|Drama|Romance|Thriller\n"
     ]
    }
   ],
   "source": [
    "# Now that we have the data we want to analyze we can start looking at interesting results to find a pattern!\n",
    "\n",
    "# Top 10 largest profitting films with their genre & year\n",
    "\n",
    "largest_to_smallest = list()\n",
    "#print(clean_movie_list[2])\n",
    "new_clean_movie_list = clean_movie_list[1:]\n",
    "for movie in new_clean_movie_list:\n",
    "    profit = int(movie[2])-int(movie[6])\n",
    "    movie.append(profit)\n",
    "    \n",
    "new_clean_movie_list.sort(key=lambda x: x[8], reverse=False)\n",
    "\n",
    "bot_10_profit = list(((movie[4], movie[8], movie[7], movie[3]) for movie in new_clean_movie_list[:10]))\n",
    "#print(bot_10_profit)\n",
    "\n",
    "new_clean_movie_list.sort(key=lambda x: x[8], reverse=True)\n",
    "\n",
    "top_10_profit = list(((movie[4], movie[8], movie[7], movie[3]) for movie in new_clean_movie_list[:10]))\n",
    "#print(top_10_profit)\n",
    "\n",
    "print(\"Top 10 most profitable movies:\\n\")\n",
    "for top in top_10_profit:\n",
    "    print(\"Movie: \" + top[0] + \", Genre: \" + top[3])\n",
    "print(\"\\n\")\n",
    "print(\"Top 10 least profitable movies:\\n\")    \n",
    "for bot in bot_10_profit:\n",
    "    print(\"Movie: \" + bot[0] + \", Genre: \" + bot[3])"
   ]
  },
  {
   "cell_type": "markdown",
   "metadata": {},
   "source": [
    "In the above top 10 most profitable movies we can see the following relationship: \n",
    "\n",
    "- Action is contained within 7 of the top 10 most profitable movies\n",
    "- Adventure is contained within 7 of the top 10 most profitable movies\n",
    "- Sci-Fi is contained within 7 of the top 10 most profitable movies\n",
    "\n",
    "Arguably, the most profitable movies contain the above genres.\n",
    "\n",
    "Now, let's look at the bottom 10 profitable movies:\n",
    "\n",
    "- Drama is contained within 7 of the top 10 least profitable movies\n",
    "- Action is contained within 4 of the top 10 least profitable movies\n",
    "- Sci-Fi is contained within 4 of the top 10 least profitable movies\n",
    "\n",
    "These would be considered the bottom 3 genres, but there is certainly a greater \n",
    "variety in the amount of genres found in the 10 least profitable movies.\n",
    "\n"
   ]
  },
  {
   "cell_type": "markdown",
   "metadata": {},
   "source": [
    "# Conclusion\n",
    "\n",
    "Using this dataset, and the limited number of conclusions we can make, it seems as though the director should focus on an Action and Adventure movie. If the director were to include the science fiction genre, there is a greater possibility it would not be received well and would turn into a flop, based on this dataset. "
   ]
  }
 ],
 "metadata": {
  "kernelspec": {
   "display_name": "Python 3",
   "language": "python",
   "name": "python3"
  },
  "language_info": {
   "codemirror_mode": {
    "name": "ipython",
    "version": 3
   },
   "file_extension": ".py",
   "mimetype": "text/x-python",
   "name": "python",
   "nbconvert_exporter": "python",
   "pygments_lexer": "ipython3",
   "version": "3.6.1"
  }
 },
 "nbformat": 4,
 "nbformat_minor": 2
}
