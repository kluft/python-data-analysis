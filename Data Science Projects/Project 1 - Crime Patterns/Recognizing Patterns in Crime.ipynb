{
 "cells": [
  {
   "cell_type": "markdown",
   "metadata": {},
   "source": [
    "# Criminal Patterns and Police Responses: An Analysis of the Montgomery County Police Crime Report\n",
    "\n",
    "As Police departments are a publicly funded entity, we have access to a great deal of crime data. What we want to get out of this analysis is a better understanding of the Montgomery County criminal offences that are occurring and how the police are responding to them. Specifically, the start time and dispatch time of the police will be looked at to determine when most crime is being reported. Additionally, we also want to explore the safest neighbourhoods within the county, and if necessary, the neighbourhoods within the county that should be avoided.\n",
    "\n",
    "For this analysis we will be looking at crime in [Montgomery County, Maryland](https://en.wikipedia.org/wiki/Montgomery_County,_Maryland). The data we will be working with can be found [here](https://data.montgomerycountymd.gov/Public-Safety/Crime/icn6-v9z3).\n",
    "\n",
    "Upon completion of this analysis, we are able to determine the following major results:\n",
    "\n",
    "- The morning period between 6AM to 12 PM had the most overall crime being reported\n",
    "- 8.6% of all crime reported would be considered violent\n",
    "- Kensington and Silver Spring had the most violent crime being reported\n",
    "- The evening period between 6PM to 12AM has the most violent crime being reported\n",
    "\n",
    "For a full review of the analysis please read through this document in detail. The analysis throughout provides a much more in-depth look at the data than outlined in this short introduction."
   ]
  },
  {
   "cell_type": "markdown",
   "metadata": {},
   "source": [
    "**Data Exploration**\n",
    "\n",
    "We are now going to complete a quick data exploration to get a better understanding of the dataset we will be working with. Let's begin by examining the first 10 rows and the shape of the data (number of rows and number of columns)."
   ]
  },
  {
   "cell_type": "code",
   "execution_count": 2,
   "metadata": {},
   "outputs": [
    {
     "data": {
      "text/html": [
       "<div>\n",
       "<style>\n",
       "    .dataframe thead tr:only-child th {\n",
       "        text-align: right;\n",
       "    }\n",
       "\n",
       "    .dataframe thead th {\n",
       "        text-align: left;\n",
       "    }\n",
       "\n",
       "    .dataframe tbody tr th {\n",
       "        vertical-align: top;\n",
       "    }\n",
       "</style>\n",
       "<table border=\"1\" class=\"dataframe\">\n",
       "  <thead>\n",
       "    <tr style=\"text-align: right;\">\n",
       "      <th></th>\n",
       "      <th>Incident ID</th>\n",
       "      <th>CR Number</th>\n",
       "      <th>Dispatch Date / Time</th>\n",
       "      <th>Class</th>\n",
       "      <th>Class Description</th>\n",
       "      <th>Police District Name</th>\n",
       "      <th>Block Address</th>\n",
       "      <th>City</th>\n",
       "      <th>State</th>\n",
       "      <th>Zip Code</th>\n",
       "      <th>...</th>\n",
       "      <th>Sector</th>\n",
       "      <th>Beat</th>\n",
       "      <th>PRA</th>\n",
       "      <th>Start Date / Time</th>\n",
       "      <th>End Date / Time</th>\n",
       "      <th>Latitude</th>\n",
       "      <th>Longitude</th>\n",
       "      <th>Police District Number</th>\n",
       "      <th>Location</th>\n",
       "      <th>Address Number</th>\n",
       "    </tr>\n",
       "  </thead>\n",
       "  <tbody>\n",
       "    <tr>\n",
       "      <th>0</th>\n",
       "      <td>200939101</td>\n",
       "      <td>13047006</td>\n",
       "      <td>10/02/2013 07:52:41 PM</td>\n",
       "      <td>511</td>\n",
       "      <td>BURG FORCE-RES/NIGHT</td>\n",
       "      <td>OTHER</td>\n",
       "      <td>25700  MT RADNOR DR</td>\n",
       "      <td>DAMASCUS</td>\n",
       "      <td>MD</td>\n",
       "      <td>20872.0</td>\n",
       "      <td>...</td>\n",
       "      <td>NaN</td>\n",
       "      <td>NaN</td>\n",
       "      <td>NaN</td>\n",
       "      <td>10/02/2013 07:52:00 PM</td>\n",
       "      <td>NaN</td>\n",
       "      <td>NaN</td>\n",
       "      <td>NaN</td>\n",
       "      <td>OTHER</td>\n",
       "      <td>NaN</td>\n",
       "      <td>25700.0</td>\n",
       "    </tr>\n",
       "    <tr>\n",
       "      <th>1</th>\n",
       "      <td>200952042</td>\n",
       "      <td>13062965</td>\n",
       "      <td>12/31/2013 09:46:58 PM</td>\n",
       "      <td>1834</td>\n",
       "      <td>CDS-POSS MARIJUANA/HASHISH</td>\n",
       "      <td>GERMANTOWN</td>\n",
       "      <td>GUNNERS BRANCH  RD</td>\n",
       "      <td>GERMANTOWN</td>\n",
       "      <td>MD</td>\n",
       "      <td>20874.0</td>\n",
       "      <td>...</td>\n",
       "      <td>M</td>\n",
       "      <td>5M1</td>\n",
       "      <td>470.0</td>\n",
       "      <td>12/31/2013 09:46:00 PM</td>\n",
       "      <td>NaN</td>\n",
       "      <td>NaN</td>\n",
       "      <td>NaN</td>\n",
       "      <td>5D</td>\n",
       "      <td>NaN</td>\n",
       "      <td>NaN</td>\n",
       "    </tr>\n",
       "    <tr>\n",
       "      <th>2</th>\n",
       "      <td>200926636</td>\n",
       "      <td>13031483</td>\n",
       "      <td>07/06/2013 09:06:24 AM</td>\n",
       "      <td>1412</td>\n",
       "      <td>VANDALISM-MOTOR VEHICLE</td>\n",
       "      <td>MONTGOMERY VILLAGE</td>\n",
       "      <td>OLDE TOWNE  AVE</td>\n",
       "      <td>GAITHERSBURG</td>\n",
       "      <td>MD</td>\n",
       "      <td>20877.0</td>\n",
       "      <td>...</td>\n",
       "      <td>P</td>\n",
       "      <td>6P3</td>\n",
       "      <td>431.0</td>\n",
       "      <td>07/06/2013 09:06:00 AM</td>\n",
       "      <td>NaN</td>\n",
       "      <td>NaN</td>\n",
       "      <td>NaN</td>\n",
       "      <td>6D</td>\n",
       "      <td>NaN</td>\n",
       "      <td>NaN</td>\n",
       "    </tr>\n",
       "    <tr>\n",
       "      <th>3</th>\n",
       "      <td>200929538</td>\n",
       "      <td>13035288</td>\n",
       "      <td>07/28/2013 09:13:15 PM</td>\n",
       "      <td>2752</td>\n",
       "      <td>FUGITIVE FROM JUSTICE(OUT OF STATE)</td>\n",
       "      <td>BETHESDA</td>\n",
       "      <td>BEACH  DR</td>\n",
       "      <td>CHEVY CHASE</td>\n",
       "      <td>MD</td>\n",
       "      <td>20815.0</td>\n",
       "      <td>...</td>\n",
       "      <td>D</td>\n",
       "      <td>2D1</td>\n",
       "      <td>11.0</td>\n",
       "      <td>07/28/2013 09:13:00 PM</td>\n",
       "      <td>NaN</td>\n",
       "      <td>NaN</td>\n",
       "      <td>NaN</td>\n",
       "      <td>2D</td>\n",
       "      <td>NaN</td>\n",
       "      <td>NaN</td>\n",
       "    </tr>\n",
       "    <tr>\n",
       "      <th>4</th>\n",
       "      <td>200930689</td>\n",
       "      <td>13036876</td>\n",
       "      <td>08/06/2013 05:16:17 PM</td>\n",
       "      <td>2812</td>\n",
       "      <td>DRIVING UNDER THE INFLUENCE</td>\n",
       "      <td>BETHESDA</td>\n",
       "      <td>BEACH  DR</td>\n",
       "      <td>SILVER SPRING</td>\n",
       "      <td>MD</td>\n",
       "      <td>20815.0</td>\n",
       "      <td>...</td>\n",
       "      <td>D</td>\n",
       "      <td>2D3</td>\n",
       "      <td>178.0</td>\n",
       "      <td>08/06/2013 05:16:00 PM</td>\n",
       "      <td>NaN</td>\n",
       "      <td>NaN</td>\n",
       "      <td>NaN</td>\n",
       "      <td>2D</td>\n",
       "      <td>NaN</td>\n",
       "      <td>NaN</td>\n",
       "    </tr>\n",
       "    <tr>\n",
       "      <th>5</th>\n",
       "      <td>200931009</td>\n",
       "      <td>13037095</td>\n",
       "      <td>08/07/2013 11:31:19 PM</td>\n",
       "      <td>1864</td>\n",
       "      <td>CDS IMPLMNT-MARIJUANA/HASHISH</td>\n",
       "      <td>MONTGOMERY VILLAGE</td>\n",
       "      <td>N270 CUTOVR X8 TO X9  HWY</td>\n",
       "      <td>GAITHERSBURG</td>\n",
       "      <td>MD</td>\n",
       "      <td>NaN</td>\n",
       "      <td>...</td>\n",
       "      <td>P</td>\n",
       "      <td>6P1</td>\n",
       "      <td>444.0</td>\n",
       "      <td>08/07/2013 11:31:00 PM</td>\n",
       "      <td>NaN</td>\n",
       "      <td>NaN</td>\n",
       "      <td>NaN</td>\n",
       "      <td>6D</td>\n",
       "      <td>NaN</td>\n",
       "      <td>NaN</td>\n",
       "    </tr>\n",
       "    <tr>\n",
       "      <th>6</th>\n",
       "      <td>200931987</td>\n",
       "      <td>13037600</td>\n",
       "      <td>08/10/2013 07:52:08 PM</td>\n",
       "      <td>1833</td>\n",
       "      <td>CDS-POSS COCAINE&amp; DERIVATIVES</td>\n",
       "      <td>MONTGOMERY VILLAGE</td>\n",
       "      <td>SAM EIG  HWY</td>\n",
       "      <td>ROCKVILLE</td>\n",
       "      <td>MD</td>\n",
       "      <td>20877.0</td>\n",
       "      <td>...</td>\n",
       "      <td>P</td>\n",
       "      <td>6P2</td>\n",
       "      <td>660.0</td>\n",
       "      <td>08/10/2013 07:52:00 PM</td>\n",
       "      <td>NaN</td>\n",
       "      <td>NaN</td>\n",
       "      <td>NaN</td>\n",
       "      <td>6D</td>\n",
       "      <td>NaN</td>\n",
       "      <td>NaN</td>\n",
       "    </tr>\n",
       "    <tr>\n",
       "      <th>7</th>\n",
       "      <td>200936488</td>\n",
       "      <td>13043769</td>\n",
       "      <td>09/15/2013 06:56:49 AM</td>\n",
       "      <td>2791</td>\n",
       "      <td>ALL OTHER NON-TRAFFIC CRIM OFFENSES</td>\n",
       "      <td>MONTGOMERY VILLAGE</td>\n",
       "      <td>WOODFIELD  RD</td>\n",
       "      <td>WASHINGTON GROVE</td>\n",
       "      <td>MD</td>\n",
       "      <td>20877.0</td>\n",
       "      <td>...</td>\n",
       "      <td>P</td>\n",
       "      <td>6P3</td>\n",
       "      <td>419.0</td>\n",
       "      <td>09/15/2013 06:40:00 AM</td>\n",
       "      <td>NaN</td>\n",
       "      <td>NaN</td>\n",
       "      <td>NaN</td>\n",
       "      <td>6D</td>\n",
       "      <td>NaN</td>\n",
       "      <td>NaN</td>\n",
       "    </tr>\n",
       "    <tr>\n",
       "      <th>8</th>\n",
       "      <td>200938488</td>\n",
       "      <td>13046321</td>\n",
       "      <td>09/29/2013 12:44:15 AM</td>\n",
       "      <td>2812</td>\n",
       "      <td>DRIVING UNDER THE INFLUENCE</td>\n",
       "      <td>ROCKVILLE</td>\n",
       "      <td>WOOTTON  PKW</td>\n",
       "      <td>ROCKVILLE</td>\n",
       "      <td>MD</td>\n",
       "      <td>20852.0</td>\n",
       "      <td>...</td>\n",
       "      <td>A</td>\n",
       "      <td>1A1</td>\n",
       "      <td>263.0</td>\n",
       "      <td>09/29/2013 12:44:00 AM</td>\n",
       "      <td>NaN</td>\n",
       "      <td>NaN</td>\n",
       "      <td>NaN</td>\n",
       "      <td>1D</td>\n",
       "      <td>NaN</td>\n",
       "      <td>NaN</td>\n",
       "    </tr>\n",
       "    <tr>\n",
       "      <th>9</th>\n",
       "      <td>200939746</td>\n",
       "      <td>13047878</td>\n",
       "      <td>10/07/2013 11:39:48 PM</td>\n",
       "      <td>2812</td>\n",
       "      <td>DRIVING UNDER THE INFLUENCE</td>\n",
       "      <td>ROCKVILLE</td>\n",
       "      <td>WOOTTON  PKW</td>\n",
       "      <td>ROCKVILLE</td>\n",
       "      <td>MD</td>\n",
       "      <td>20850.0</td>\n",
       "      <td>...</td>\n",
       "      <td>A</td>\n",
       "      <td>1A1</td>\n",
       "      <td>260.0</td>\n",
       "      <td>10/07/2013 11:39:00 PM</td>\n",
       "      <td>10/08/2013 12:30:00 AM</td>\n",
       "      <td>NaN</td>\n",
       "      <td>NaN</td>\n",
       "      <td>1D</td>\n",
       "      <td>NaN</td>\n",
       "      <td>NaN</td>\n",
       "    </tr>\n",
       "  </tbody>\n",
       "</table>\n",
       "<p>10 rows × 22 columns</p>\n",
       "</div>"
      ],
      "text/plain": [
       "   Incident ID  CR Number    Dispatch Date / Time  Class  \\\n",
       "0    200939101   13047006  10/02/2013 07:52:41 PM    511   \n",
       "1    200952042   13062965  12/31/2013 09:46:58 PM   1834   \n",
       "2    200926636   13031483  07/06/2013 09:06:24 AM   1412   \n",
       "3    200929538   13035288  07/28/2013 09:13:15 PM   2752   \n",
       "4    200930689   13036876  08/06/2013 05:16:17 PM   2812   \n",
       "5    200931009   13037095  08/07/2013 11:31:19 PM   1864   \n",
       "6    200931987   13037600  08/10/2013 07:52:08 PM   1833   \n",
       "7    200936488   13043769  09/15/2013 06:56:49 AM   2791   \n",
       "8    200938488   13046321  09/29/2013 12:44:15 AM   2812   \n",
       "9    200939746   13047878  10/07/2013 11:39:48 PM   2812   \n",
       "\n",
       "                     Class Description Police District Name  \\\n",
       "0                 BURG FORCE-RES/NIGHT                OTHER   \n",
       "1           CDS-POSS MARIJUANA/HASHISH           GERMANTOWN   \n",
       "2              VANDALISM-MOTOR VEHICLE   MONTGOMERY VILLAGE   \n",
       "3  FUGITIVE FROM JUSTICE(OUT OF STATE)             BETHESDA   \n",
       "4          DRIVING UNDER THE INFLUENCE             BETHESDA   \n",
       "5        CDS IMPLMNT-MARIJUANA/HASHISH   MONTGOMERY VILLAGE   \n",
       "6        CDS-POSS COCAINE& DERIVATIVES   MONTGOMERY VILLAGE   \n",
       "7  ALL OTHER NON-TRAFFIC CRIM OFFENSES   MONTGOMERY VILLAGE   \n",
       "8          DRIVING UNDER THE INFLUENCE            ROCKVILLE   \n",
       "9          DRIVING UNDER THE INFLUENCE            ROCKVILLE   \n",
       "\n",
       "               Block Address              City State  Zip Code      ...        \\\n",
       "0        25700  MT RADNOR DR          DAMASCUS    MD   20872.0      ...         \n",
       "1         GUNNERS BRANCH  RD        GERMANTOWN    MD   20874.0      ...         \n",
       "2            OLDE TOWNE  AVE      GAITHERSBURG    MD   20877.0      ...         \n",
       "3                  BEACH  DR       CHEVY CHASE    MD   20815.0      ...         \n",
       "4                  BEACH  DR     SILVER SPRING    MD   20815.0      ...         \n",
       "5  N270 CUTOVR X8 TO X9  HWY      GAITHERSBURG    MD       NaN      ...         \n",
       "6               SAM EIG  HWY         ROCKVILLE    MD   20877.0      ...         \n",
       "7              WOODFIELD  RD  WASHINGTON GROVE    MD   20877.0      ...         \n",
       "8               WOOTTON  PKW         ROCKVILLE    MD   20852.0      ...         \n",
       "9               WOOTTON  PKW         ROCKVILLE    MD   20850.0      ...         \n",
       "\n",
       "  Sector Beat    PRA       Start Date / Time         End Date / Time Latitude  \\\n",
       "0    NaN  NaN    NaN  10/02/2013 07:52:00 PM                     NaN      NaN   \n",
       "1      M  5M1  470.0  12/31/2013 09:46:00 PM                     NaN      NaN   \n",
       "2      P  6P3  431.0  07/06/2013 09:06:00 AM                     NaN      NaN   \n",
       "3      D  2D1   11.0  07/28/2013 09:13:00 PM                     NaN      NaN   \n",
       "4      D  2D3  178.0  08/06/2013 05:16:00 PM                     NaN      NaN   \n",
       "5      P  6P1  444.0  08/07/2013 11:31:00 PM                     NaN      NaN   \n",
       "6      P  6P2  660.0  08/10/2013 07:52:00 PM                     NaN      NaN   \n",
       "7      P  6P3  419.0  09/15/2013 06:40:00 AM                     NaN      NaN   \n",
       "8      A  1A1  263.0  09/29/2013 12:44:00 AM                     NaN      NaN   \n",
       "9      A  1A1  260.0  10/07/2013 11:39:00 PM  10/08/2013 12:30:00 AM      NaN   \n",
       "\n",
       "  Longitude  Police District Number  Location Address Number  \n",
       "0       NaN                   OTHER       NaN        25700.0  \n",
       "1       NaN                      5D       NaN            NaN  \n",
       "2       NaN                      6D       NaN            NaN  \n",
       "3       NaN                      2D       NaN            NaN  \n",
       "4       NaN                      2D       NaN            NaN  \n",
       "5       NaN                      6D       NaN            NaN  \n",
       "6       NaN                      6D       NaN            NaN  \n",
       "7       NaN                      6D       NaN            NaN  \n",
       "8       NaN                      1D       NaN            NaN  \n",
       "9       NaN                      1D       NaN            NaN  \n",
       "\n",
       "[10 rows x 22 columns]"
      ]
     },
     "execution_count": 2,
     "metadata": {},
     "output_type": "execute_result"
    }
   ],
   "source": [
    "import pandas as pd\n",
    "\n",
    "crime_data = pd.read_csv(\"MontgomeryCountyCrime2013.csv\")\n",
    "\n",
    "crime_data.head(10)"
   ]
  },
  {
   "cell_type": "markdown",
   "metadata": {},
   "source": [
    "This is the output of the dataset we will be using throughout the data set. \n",
    "\n",
    "The next steps for this analysis will be to clean up any data that is needed before we can start to use. It looks like the dispatch time could be converted to a more useful value, let's start with that. But the rest of the dataset is looking pretty good.\n",
    "\n",
    "**Data Analysis**"
   ]
  },
  {
   "cell_type": "code",
   "execution_count": 4,
   "metadata": {},
   "outputs": [
    {
     "name": "stdout",
     "output_type": "stream",
     "text": [
      "The month's of crime committed: \n",
      "\n",
      " 7     3520\n",
      "8     4002\n",
      "9     3927\n",
      "10    4075\n",
      "11    3941\n",
      "12    3904\n",
      "Name: Dispatch Date / Time, dtype: int64\n"
     ]
    }
   ],
   "source": [
    "#Convert the date to month, represented by a numerical value\n",
    "\n",
    "crime_data.loc[:,'Dispatch Date / Time'] = pd.to_datetime(crime_data['Dispatch Date / Time'])\n",
    "month_of_crime = crime_data['Dispatch Date / Time'].dt.month\n",
    "\n",
    "month_of_crime_sorted = month_of_crime.value_counts().sort_index()\n",
    "print(\"The month's of crime committed: \\n\\n\", month_of_crime_sorted)"
   ]
  },
  {
   "cell_type": "markdown",
   "metadata": {
    "collapsed": true
   },
   "source": [
    "Using the above value count, this dataset only contains data from July - December. That is obviously a limitation of the data and we cannot make full assumptions. We will not be able to determine any yearly trends. However, this data will be useful in taking a quick glance at any patterns that arise."
   ]
  },
  {
   "cell_type": "code",
   "execution_count": 6,
   "metadata": {},
   "outputs": [
    {
     "name": "stdout",
     "output_type": "stream",
     "text": [
      "The time of crime committed during the day vs night: \n",
      " Day      13813\n",
      "Night     9556\n",
      "Name: Dispatch Date / Time, dtype: int64\n"
     ]
    }
   ],
   "source": [
    "# Print out the number of crimes that occur in the day and night \n",
    "# day is defined as the time between 6am - 6pm.\n",
    "hour_crime = crime_data['Dispatch Date / Time'].dt.hour\n",
    "\n",
    "day_crime = (hour_crime >= 6) & (hour_crime < 18)\n",
    "day_crime_counts = day_crime.value_counts()\n",
    "\n",
    "# Re-label the numerical index to represent the actual descriptors\n",
    "day_crime_counts.index = ['Day', 'Night']\n",
    "\n",
    "print(\"The time of crime committed during the day vs night: \\n\",day_crime_counts)\n"
   ]
  },
  {
   "cell_type": "markdown",
   "metadata": {},
   "source": [
    "Let's now compute the difference between the two values using the percent error formula = (x-y)/x"
   ]
  },
  {
   "cell_type": "code",
   "execution_count": 14,
   "metadata": {},
   "outputs": [
    {
     "name": "stdout",
     "output_type": "stream",
     "text": [
      "0.308187938898\n"
     ]
    }
   ],
   "source": [
    "day_night_diff = (day_crime_counts['Day'] - day_crime_counts['Night']) / day_crime_counts['Day']\n",
    "print(day_night_diff)"
   ]
  },
  {
   "cell_type": "markdown",
   "metadata": {},
   "source": [
    "Here, we have found that crimes committed during the day vs night are 13813 to 9556, it is quite obvious that the majority of crime is reported during the day. A whole 31% difference!\n",
    "\n",
    "Now let's look at this more in depth, and break these values into the morning, afternoon, evening, and night ranges.\n",
    "\n"
   ]
  },
  {
   "cell_type": "code",
   "execution_count": 7,
   "metadata": {},
   "outputs": [
    {
     "name": "stdout",
     "output_type": "stream",
     "text": [
      "Crimes broken down by 6 hour intervals: \n",
      " {'Night': 3269, 'Morning': 6971, 'Afternoon': 6842, 'Evening': 6287}\n"
     ]
    }
   ],
   "source": [
    "# create an empty dictionary for our intervals\n",
    "crime_by_6hours = {'Night':'','Morning':'',\"Afternoon\":'', \"Evening\":''}\n",
    "\n",
    "i = 0\n",
    "\n",
    "# create a for loop that goes through the various dictionary keys applying the filter we want\n",
    "# to for each 6 hour time interval\n",
    "for item in crime_by_6hours:\n",
    "    crime_by_6hours[item] = hour_crime[(hour_crime >= i) & (hour_crime < i+6)].shape[0]\n",
    "    i += 6\n",
    "\n",
    "# print out the results\n",
    "print(\"Crimes broken down by 6 hour intervals: \\n\", crime_by_6hours)"
   ]
  },
  {
   "cell_type": "markdown",
   "metadata": {},
   "source": [
    "The in-depth data gives a much better resolution:\n",
    "\n",
    " - morning -> 6am - 12pm -> Total crimes reported = 6971\n",
    " - afternoon = 12pm - 6pm -> Total crimes reported = 6842\n",
    " - evening = 6pm - 12am -> Total crimes reported = 6287\n",
    " - night = 12am - 6am -> Total crimes reported = 3269\n",
    "\n",
    "Now we have a better resolution of the time when crimes are being reported. We can see that during the night reported crimes are roughly cut in half. It's possible that there is just less crime at night as there is less people about, but there could also be less police patrolling which decreases the amount of police being dispatched.\n",
    "\n",
    "This would be much easier to understand if it was represented visually."
   ]
  },
  {
   "cell_type": "code",
   "execution_count": 6,
   "metadata": {},
   "outputs": [
    {
     "data": {
      "image/png": "[encoded data removed]",
      "text/plain": [
       "<matplotlib.figure.Figure at 0x10e395780>"
      ]
     },
     "metadata": {},
     "output_type": "display_data"
    }
   ],
   "source": [
    "# This can be visually represented like so:\n",
    "import matplotlib.pyplot as plt\n",
    "\n",
    "colors = ['gold', 'yellowgreen', 'lightcoral', 'lightskyblue']\n",
    "\n",
    "# Makes the chart \"pop\" out\n",
    "explode = (0, 0.1, 0, 0)\n",
    "plt.pie([val for val in crime_by_6hours.values()],explode=explode, labels=[k for k in crime_by_6hours.keys()], \n",
    "        colors=colors, autopct='%1.1f%%', shadow=True, startangle=140)\n",
    "plt.axis('equal')\n",
    "plt.show()\n"
   ]
  },
  {
   "cell_type": "markdown",
   "metadata": {},
   "source": [
    "Using the pie chart print out, we can easily identify the largest 6-hour time interval being 29.8% BUT we can also see that the evening and afternoon intervals are quite close as well. However, we can very easily see that the night time interval has roughly half the amount of calls being dispatched when compared to the other intervals.\n",
    "\n",
    "Now, let's look at which day of of the week has the most crimes being reported."
   ]
  },
  {
   "cell_type": "code",
   "execution_count": 7,
   "metadata": {},
   "outputs": [
    {
     "name": "stdout",
     "output_type": "stream",
     "text": [
      "The days of crime committed on: \n",
      " Tuesday      3836\n",
      "Monday       3734\n",
      "Wednesday    3611\n",
      "Friday       3594\n",
      "Thursday     3404\n",
      "Saturday     2807\n",
      "Sunday       2383\n",
      "Name: Dispatch Date / Time, dtype: int64\n"
     ]
    }
   ],
   "source": [
    "weekday_of_crime = crime_data['Dispatch Date / Time'].dt.weekday_name\n",
    "weekday_of_crime_sorted = weekday_of_crime.value_counts()\n",
    "\n",
    "print(\"The days of crime committed on: \\n\", weekday_of_crime_sorted)\n",
    "\n"
   ]
  },
  {
   "cell_type": "markdown",
   "metadata": {},
   "source": [
    "We can see from the above list that Tuesday is the most likely day for a crime to be reported. Instead of having this item as a list, let's see what it looks like visually."
   ]
  },
  {
   "cell_type": "code",
   "execution_count": 8,
   "metadata": {},
   "outputs": [
    {
     "data": {
      "image/png": "[encoded data removed]",
      "text/plain": [
       "<matplotlib.figure.Figure at 0x10e395ba8>"
      ]
     },
     "metadata": {},
     "output_type": "display_data"
    }
   ],
   "source": [
    "days_of_week=['Monday','Tuesday','Wednesday', 'Thursday','Friday', 'Saturday','Sunday']\n",
    "weekday_of_crime_by_week = weekday_of_crime_sorted[days_of_week]\n",
    "weekday_of_crime_by_week.plot(kind='bar', x='Day of Week')\n",
    "plt.title(\"Number of Crimes Reported by Weekday\")\n",
    "plt.xlabel(\"Days of the Week\")\n",
    "plt.ylabel('Number of Crimes Reported')\n",
    "plt.show()\n"
   ]
  },
  {
   "cell_type": "markdown",
   "metadata": {},
   "source": [
    "Using a bar graph, it is easier to visually see the amount of calls police officers respond to. \n",
    "\n",
    "We can also note that the two days with the least amount of crime reported is Saturday and Sunday. One reason for this decline at the end of week may be that there are less police officers available. \n",
    "\n",
    "One last item we should explore when using the time portion of this dataset is the average time it takes police to dispatched. To do this we can use the *'Dispatch Time'* column and the *'Start Time'* column by subtracting the two."
   ]
  },
  {
   "cell_type": "code",
   "execution_count": 8,
   "metadata": {},
   "outputs": [
    {
     "name": "stdout",
     "output_type": "stream",
     "text": [
      "0     0 days 00:00:41\n",
      "1     0 days 00:00:58\n",
      "2     0 days 00:00:24\n",
      "3     0 days 00:00:15\n",
      "4     0 days 00:00:17\n",
      "5     0 days 00:00:19\n",
      "6     0 days 00:00:08\n",
      "7     0 days 00:16:49\n",
      "8     0 days 00:00:15\n",
      "9     0 days 00:00:48\n",
      "10    0 days 00:00:09\n",
      "11    0 days 00:00:21\n",
      "12    0 days 00:00:35\n",
      "13   60 days 04:18:25\n",
      "14    0 days 00:00:24\n",
      "Name: Time_Difference, dtype: timedelta64[ns]\n"
     ]
    }
   ],
   "source": [
    "# The difference in dispatch time and start time can be determined as follows\n",
    "\n",
    "dispatch_time = pd.to_datetime(crime_data['Dispatch Date / Time'])\n",
    "start_time = pd.to_datetime(crime_data['Start Date / Time'])\n",
    "\n",
    "crime_data['Time_Difference'] = (dispatch_time - start_time)\n",
    "print(crime_data['Time_Difference'].head(15))"
   ]
  },
  {
   "cell_type": "markdown",
   "metadata": {},
   "source": [
    "Looking at the above output, we can see some timedeltas are quite out of place and are likely an administrative error so we don't want to include these in the timedelta. We will need to exclude any value that is over one day from this average as these are outliers and likely errors. Let's try taking the median value of this dataset and see what we find."
   ]
  },
  {
   "cell_type": "code",
   "execution_count": 11,
   "metadata": {},
   "outputs": [
    {
     "name": "stdout",
     "output_type": "stream",
     "text": [
      "0 days 00:00:48\n"
     ]
    }
   ],
   "source": [
    "# Filter out any values greater than 1 day\n",
    "\n",
    "crime_data['Time_Difference_days'] = crime_data['Time_Difference'].astype('timedelta64[D]')\n",
    "day_filter = ~(crime_data['Time_Difference_days'] > 0) & ~(crime_data['Time_Difference_days'] < 0)\n",
    "\n",
    "avg_response_time = crime_data[day_filter]['Time_Difference'].median()\n",
    "print(avg_response_time)"
   ]
  },
  {
   "cell_type": "markdown",
   "metadata": {},
   "source": [
    "After removing the time differences that were greater than 1 day the median time between the start and dispatch time is 48 seconds. \n",
    "\n",
    "This may seem odd at first however, an important thing to note is that the time difference we calculated is actually just the time of the officers being dispatched to the crime. Not the response time of the police to show up to a 911 call. When we look at the data this way, this median value starts to seem more accurate. Using online materials, an average time to dispatch cannot be found and so we have no way to corroborate this value as to its accuracy.\n",
    "\n",
    "Now that we have reviewed and analyzed the time of police dispatches, we can look at which locations crime is being reported at. We first need to choose the column that best represents the areas we want to group the crimes by. The *'City'* column seems like the best column to use. We will now analyze crimes that occur in each city within Montgomery County."
   ]
  },
  {
   "cell_type": "code",
   "execution_count": 11,
   "metadata": {
    "scrolled": true
   },
   "outputs": [
    {
     "data": {
      "image/png": "[encoded data removed]",
      "text/plain": [
       "<matplotlib.figure.Figure at 0x10c0e3d68>"
      ]
     },
     "metadata": {},
     "output_type": "display_data"
    }
   ],
   "source": [
    "crime_occurrences_by_city = crime_data['City'].value_counts()\n",
    "crime_occurrences_by_city.plot(kind='bar', x='City',figsize=(15,5))\n",
    "plt.title(\"Number of Crimes Reported by City\")\n",
    "plt.xlabel(\"Cities\")\n",
    "plt.ylabel('Crimes Reported')\n",
    "plt.show()"
   ]
  },
  {
   "cell_type": "code",
   "execution_count": null,
   "metadata": {
    "collapsed": true
   },
   "outputs": [],
   "source": []
  },
  {
   "cell_type": "markdown",
   "metadata": {},
   "source": [
    "Using a bar plot we can quite easily see that Silver Spring has the most crime being reported. To get a better understanding of this data is actually saying we should look at the crime per capita (1000 People) of each area. Researching online did not yield a dataset to create the per capita value, however. One could utilize a scraping tool to find this information. To make things easy for us, only the first 10 locations will be looked at and so this can be done by gathering the information manually for the largest 10 cities using online resources."
   ]
  },
  {
   "cell_type": "code",
   "execution_count": 12,
   "metadata": {},
   "outputs": [
    {
     "name": "stdout",
     "output_type": "stream",
     "text": [
      "{'SILVER SPRING': 120.7244023960141, 'ROCKVILLE': 56.413272557957157, 'GAITHERSBURG': 50.930914750957854, 'GERMANTOWN': 23.931360007058096, 'BETHESDA': 28.525419829767657, 'MONTGOMERY VILLAGE': 21.447302697302696, 'POTOMAC': 11.720226843100189, 'CHEVY CHASE': 168.30010138560326, 'OLNEY': 11.227987235551353, 'KENSINGTON': 156.93904020752271}\n"
     ]
    }
   ],
   "source": [
    "pop_by_city ={'SILVER SPRING': 71452,'ROCKVILLE': 61209,'GAITHERSBURG': 66816, 'GERMANTOWN': 90676, \n",
    "              'BETHESDA': 60858,'MONTGOMERY VILLAGE': 32032, 'POTOMAC': 44965, 'CHEVY CHASE': 2959, \n",
    "              'OLNEY': 33844,'KENSINGTON': 2313} \n",
    "\n",
    "crime_per_capita_highest_10 = {}\n",
    "\n",
    "for city, pop in pop_by_city.items():\n",
    "    crime_per_capita_highest_10[city] = (crime_occurrences_by_city.loc[city]/pop)*1000\n",
    "    \n",
    "print(crime_per_capita_highest_10)\n",
    "\n"
   ]
  },
  {
   "cell_type": "markdown",
   "metadata": {},
   "source": [
    "Now let's look at this data visually by creating a bar graph using the list that was printed out above descending from the largest value in the list."
   ]
  },
  {
   "cell_type": "code",
   "execution_count": 13,
   "metadata": {},
   "outputs": [
    {
     "data": {
      "image/png": "[encoded data removed]",
      "text/plain": [
       "<matplotlib.figure.Figure at 0x10c0093c8>"
      ]
     },
     "metadata": {},
     "output_type": "display_data"
    }
   ],
   "source": [
    "from operator import itemgetter\n",
    "from collections import OrderedDict\n",
    "\n",
    "sorted_crime_per_capita_highest_10 = sorted(crime_per_capita_highest_10.items(), key=itemgetter(1),reverse=True)\n",
    "\n",
    "city_name = []\n",
    "per_1000_ppl = []\n",
    "for element in sorted_crime_per_capita_highest_10:\n",
    "    city_name.append(element[0])\n",
    "    per_1000_ppl.append(element[1])\n",
    "    \n",
    "plt.bar(range(0,len(city_name)), per_1000_ppl)\n",
    "plt.xticks(range(0,len(city_name)),city_name,rotation=90)\n",
    "plt.xlabel('Cities')\n",
    "plt.title('Number of Crimes per 1000 People by City')\n",
    "plt.ylabel('Crimes per 1000 People')\n",
    "plt.show()"
   ]
  },
  {
   "cell_type": "markdown",
   "metadata": {},
   "source": [
    "Now that we can see the crime per capita, we have a better estimate to  can compare the above results to the last graph which is very different in the results. We would have expected Silver Spring to lead the pack as it had over 2 times the amount of crimes being reported then the next closest city. The two largest results in this graph are the surprising result. \n",
    "\n",
    "Chevy Chase and Kensington city have 2959, 2313 people located within them, respectively. The crime rate per capita in both cities is surprisingly large for the size of the town. Because of this, you may want to avoid spending a lot of time in either of these locations due to the crime rate.\n",
    "\n",
    "Let's now look at the types of crime being reported and see if we can narrow this down at all."
   ]
  },
  {
   "cell_type": "code",
   "execution_count": 14,
   "metadata": {
    "collapsed": true
   },
   "outputs": [],
   "source": [
    "# How often do specific crimes occur and what is the count of each type of reported crime\n",
    "\n",
    "types_of_crime_count = crime_data['Class Description'].value_counts()\n",
    "types_of_crime_count.to_csv('Class_Description')"
   ]
  },
  {
   "cell_type": "markdown",
   "metadata": {},
   "source": [
    "By outputting the results as a \".csv\" file, we are able to look at the options closer, choosing which specific description is non-violent or not. We can certainly see that anything with \"Assault\" or \"Asslt\" in the name is a violent crime, but there are also a few other keywords such as \"Rape\",\"Homicide\", \"Knife\",\"Firearm\",\"Armed\" also fit our violent crime 'mould'."
   ]
  },
  {
   "cell_type": "code",
   "execution_count": 11,
   "metadata": {
    "scrolled": true
   },
   "outputs": [
    {
     "name": "stdout",
     "output_type": "stream",
     "text": [
      "Non-Violent    21515\n",
      "Violent         1854\n",
      "Name: Violent crime, dtype: int64\n"
     ]
    }
   ],
   "source": [
    "# Now let's try to identify which of these are violent and which are non-violent\n",
    "\n",
    "# Use Regex to determine which are violent and which are non-violent\n",
    "crime_data['Violent crime'] = crime_data['Class Description'].str.contains(\n",
    "    'ASSAULT|ASSLT|RAPE|HOMICIDE|KNIFE|FIREARM|ARMED')\n",
    "\n",
    "crime_data.loc[crime_data['Violent crime']==True,'Violent crime'] = \"Violent\"\n",
    "crime_data.loc[crime_data['Violent crime']==False,'Violent crime'] = \"Non-Violent\"\n",
    "crime_data_value_counts = crime_data['Violent crime'].value_counts()\n",
    "print(crime_data_value_counts)\n"
   ]
  },
  {
   "cell_type": "markdown",
   "metadata": {},
   "source": [
    "Let's determine what the percentage of crime is violent. To do this we can take the Violent Crime value and divide it by Total Crime."
   ]
  },
  {
   "cell_type": "code",
   "execution_count": 14,
   "metadata": {},
   "outputs": [
    {
     "name": "stdout",
     "output_type": "stream",
     "text": [
      "7.93358723095\n"
     ]
    }
   ],
   "source": [
    "print((crime_data_value_counts['Violent']/(crime_data_value_counts['Violent']+\n",
    "                                           crime_data_value_counts['Non-Violent'])*100))"
   ]
  },
  {
   "cell_type": "markdown",
   "metadata": {
    "collapsed": true
   },
   "source": [
    "After identifying which fields in the dataframe are \"Violent\" and which are \"Non-Violent\" we can see that only a fraction of crimes reported are actually violent (7.9% are violent). Now we should test and see if we can narrow down where and when these violent crimes are occurring."
   ]
  },
  {
   "cell_type": "code",
   "execution_count": 32,
   "metadata": {},
   "outputs": [
    {
     "name": "stdout",
     "output_type": "stream",
     "text": [
      "SILVER SPRING         787\n",
      "GAITHERSBURG          272\n",
      "ROCKVILLE             248\n",
      "GERMANTOWN            181\n",
      "BETHESDA               85\n",
      "MONTGOMERY VILLAGE     66\n",
      "POTOMAC                34\n",
      "KENSINGTON             26\n",
      "OLNEY                  23\n",
      "BURTONSVILLE           21\n",
      "CLARKSBURG             21\n",
      "DAMASCUS               20\n",
      "TAKOMA PARK            20\n",
      "CHEVY CHASE            18\n",
      "DERWOOD                10\n",
      "POOLESVILLE             7\n",
      "BOYDS                   5\n",
      "BROOKEVILLE             4\n",
      "SANDY SPRING            2\n",
      "DICKERSON               2\n",
      "ASHTON                  2\n",
      "Name: City, dtype: int64\n"
     ]
    }
   ],
   "source": [
    "violent_crime = crime_data[crime_data['Violent crime']==\"Violent\"]\n",
    "\n",
    "print(violent_crime['City'].value_counts())"
   ]
  },
  {
   "cell_type": "markdown",
   "metadata": {},
   "source": [
    "We can again see that, Silver Spring has the most violent crimes being reported. Let's look at this in a visual form as well."
   ]
  },
  {
   "cell_type": "code",
   "execution_count": 38,
   "metadata": {},
   "outputs": [
    {
     "data": {
      "image/png": "[encoded data removed]",
      "text/plain": [
       "<matplotlib.figure.Figure at 0x10f29bac8>"
      ]
     },
     "metadata": {},
     "output_type": "display_data"
    }
   ],
   "source": [
    "violent_crime_counts = violent_crime['City'].value_counts()\n",
    "\n",
    "violent_crime_counts.plot(kind='bar', x='City',figsize=(15,5))\n",
    "plt.title(\"Number of Violent Crimes Reported by City\")\n",
    "plt.xlabel(\"Cities\")\n",
    "plt.ylabel('Violent Crimes Reported')\n",
    "plt.show()"
   ]
  },
  {
   "cell_type": "markdown",
   "metadata": {},
   "source": [
    "Knowing what happened last time we did this, we should also use our population per capita calculation and graphically determine which city has the largest amount of violent crimes being reported."
   ]
  },
  {
   "cell_type": "code",
   "execution_count": 43,
   "metadata": {},
   "outputs": [
    {
     "name": "stdout",
     "output_type": "stream",
     "text": [
      "{'SILVER SPRING': 11.014387280971842, 'ROCKVILLE': 4.0516917446780703, 'GAITHERSBURG': 4.0708812260536398, 'GERMANTOWN': 1.9961180466716659, 'BETHESDA': 1.3966939432777943, 'MONTGOMERY VILLAGE': 2.0604395604395607, 'POTOMAC': 0.75614366729678639, 'CHEVY CHASE': 6.0831361946603586, 'OLNEY': 0.67958870109916092, 'KENSINGTON': 11.24081279723303}\n"
     ]
    }
   ],
   "source": [
    "violent_crime_per_capita = {}\n",
    "\n",
    "for city, pop in pop_by_city.items():\n",
    "    violent_crime_per_capita[city] = (violent_crime_counts.loc[city]/pop)*1000"
   ]
  },
  {
   "cell_type": "code",
   "execution_count": 45,
   "metadata": {},
   "outputs": [
    {
     "data": {
      "image/png": "[encoded data removed]",
      "text/plain": [
       "<matplotlib.figure.Figure at 0x10f0df710>"
      ]
     },
     "metadata": {},
     "output_type": "display_data"
    }
   ],
   "source": [
    "sorted_violent_crime_per_capita = sorted(violent_crime_per_capita.items(), key=itemgetter(1),reverse=True)\n",
    "\n",
    "city_name = []\n",
    "per_1000_ppl = []\n",
    "for element in sorted_violent_crime_per_capita:\n",
    "    city_name.append(element[0])\n",
    "    per_1000_ppl.append(element[1])\n",
    "    \n",
    "plt.bar(range(0,len(city_name)), per_1000_ppl)\n",
    "plt.xticks(range(0,len(city_name)),city_name,rotation=90)\n",
    "plt.xlabel('Cities')\n",
    "plt.title('Number of Violent Crimes per 1000 People by City')\n",
    "plt.ylabel('Violent Crimes per 1000 People')\n",
    "plt.show()"
   ]
  },
  {
   "cell_type": "markdown",
   "metadata": {},
   "source": [
    "Looking at the above graph, we can see that 'Kensington' and 'Silver Spring' cities have the largest amount of violent crimes being reported when looking at this value per capita. If we remember back to the 'Number of Crimes per 1000 People by City' graph, Chevy Chase was largest, with Kensington, and Silver Spring being the next largest. This is worrisome as Kensington has a much smaller population than Silver Spring, 2,313 compared to 71,452 people. \n",
    "\n",
    "Now that we know where the most violent crimes are being reported, let's try to find out when using our data. The best way to do this would to be to use our day or night method and break it into the 6 hour intervals for more resolution."
   ]
  },
  {
   "cell_type": "code",
   "execution_count": 47,
   "metadata": {},
   "outputs": [
    {
     "name": "stdout",
     "output_type": "stream",
     "text": [
      "The time of crime committed during the day vs night: \n",
      " Day      1027\n",
      "Night     827\n",
      "Name: Dispatch Date / Time, dtype: int64 \n",
      "\n"
     ]
    }
   ],
   "source": [
    "hour_violent_crime = violent_crime['Dispatch Date / Time'].dt.hour\n",
    "day_violent_crime = (hour_violent_crime >= 6) & (hour_violent_crime < 18)\n",
    "day_violent_crime_counts = day_violent_crime.value_counts()\n",
    "day_violent_crime_counts.index = ['Day', 'Night']\n",
    "\n",
    "print(\"The time of crime committed during the day vs night: \\n\",day_violent_crime_counts,\"\\n\")"
   ]
  },
  {
   "cell_type": "markdown",
   "metadata": {},
   "source": [
    "It seems like most violent crimes are reported during the day. Now, let's again try to find a specific 6 hour window that these violent crimes are being reported."
   ]
  },
  {
   "cell_type": "code",
   "execution_count": 49,
   "metadata": {},
   "outputs": [
    {
     "name": "stdout",
     "output_type": "stream",
     "text": [
      "Crimes broken down by 6 hour intervals: \n",
      " {'Night': 374, 'Morning': 288, 'Afternoon': 539, 'Evening': 653} \n",
      "\n"
     ]
    }
   ],
   "source": [
    "# create an empty dictionary for our intervals\n",
    "violent_crime_by_6hours = {'Night':'','Morning':'',\"Afternoon\":'', \"Evening\":''}\n",
    "i = 0\n",
    "\n",
    "# create a for loop that goes through the various dictionary keys applying the filter we want\n",
    "# to for each 6 hour time interval\n",
    "for item in violent_crime_by_6hours:\n",
    "    violent_crime_by_6hours[item] = hour_violent_crime[(hour_crime >= i) & (hour_violent_crime < i+6)].shape[0]\n",
    "    i += 6\n",
    "\n",
    "# print out the results\n",
    "print(\"Crimes broken down by 6 hour intervals: \\n\", violent_crime_by_6hours, \"\\n\")"
   ]
  },
  {
   "cell_type": "markdown",
   "metadata": {},
   "source": [
    "Again, let's use the same pie chart so we can compare this result to the earlier pie chart"
   ]
  },
  {
   "cell_type": "code",
   "execution_count": 51,
   "metadata": {},
   "outputs": [
    {
     "data": {
      "image/png": "[encoded data removed]",
      "text/plain": [
       "<matplotlib.figure.Figure at 0x10ef98128>"
      ]
     },
     "metadata": {},
     "output_type": "display_data"
    }
   ],
   "source": [
    "colors = ['gold', 'yellowgreen', 'lightcoral', 'lightskyblue']\n",
    "explode = (0, 0, 0, 0.1)\n",
    "plt.pie([val for val in violent_crime_by_6hours.values()],explode=explode, labels=[k for k in violent_crime_by_6hours.keys()], colors=colors,\n",
    "        autopct='%1.1f%%', shadow=True, startangle=140)\n",
    "plt.axis('equal')\n",
    "plt.show()"
   ]
  },
  {
   "cell_type": "markdown",
   "metadata": {},
   "source": [
    "Using this hourly pie chart, again, we can see that the Evening has a fairly large jump of violent crime being reported. Now, without more information on country wide crime rate, it may be hard to conclusively determine that these cities or violent crime occurrences are accurate. However, this analysis has certainly showed that you can never be too careful at Night in certain cities within Montgomery County."
   ]
  }
 ],
 "metadata": {
  "kernelspec": {
   "display_name": "Python 3",
   "language": "python",
   "name": "python3"
  },
  "language_info": {
   "codemirror_mode": {
    "name": "ipython",
    "version": 3
   },
   "file_extension": ".py",
   "mimetype": "text/x-python",
   "name": "python",
   "nbconvert_exporter": "python",
   "pygments_lexer": "ipython3",
   "version": "3.6.1"
  }
 },
 "nbformat": 4,
 "nbformat_minor": 2
}
