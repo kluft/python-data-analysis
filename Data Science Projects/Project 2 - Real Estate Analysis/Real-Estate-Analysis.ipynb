{
 "cells": [
  {
   "cell_type": "markdown",
   "metadata": {},
   "source": [
    "# Profitable Long Term Investments: An Analysis of American Housing Prices\n",
    "\n",
    "## Introduction\n",
    "\n",
    "As real estate can be a finicky industry, it is hugely important to understand where to buy a property and what property type will be the most profitable. In this analysis we will be analyzing property types in cities to determine which property type and location makes the most sense for a long term investment. The property type and location must meet our following requirements:\n",
    "\n",
    "First, we want to buy a property in a location that is steadily increasing in price, allowing a profit to be made when it is eventually sold. Second, we want to determine which housing types are mispriced within the location chosen from the first requirment. The greater the misprice, the greater the deal may be when compared to the national average. Lastly, due to budgetary reasons we want to buy in a relatively cheap city when compared to the national average.\n",
    "\n",
    "The data we will be using comes from the [Zillow Home Value Index](https://data.world/realestate/zillow-zip-zhvi). To follow along with this anlysis and run every cell correctly, you will need to download each document and place them in the same folder as this Jupyter Notebook.\n",
    "\n",
    "### Summary of Results\n",
    "\n",
    "Upon completion of the analysis, we have found that a Single Family property in Hermosa Beach, California is the best property to invest in given our requirements stated above.\n",
    "\n",
    "Please refer to the full analysis below for a more in-depth exploration of housing prices and trends throughout America.\n"
   ]
  },
  {
   "cell_type": "markdown",
   "metadata": {},
   "source": [
    "## Data Exploration\n",
    "\n",
    "Each of the property types and supplementary information we mentioned in the introduction are separated into their own documents. In this analysis we will combine all of these so we can access them very easily. \n",
    "\n",
    "Let's first explore one of the seven property type documents as they are all very similar to one another.\n"
   ]
  },
  {
   "cell_type": "code",
   "execution_count": 1,
   "metadata": {},
   "outputs": [
    {
     "name": "stdout",
     "output_type": "stream",
     "text": [
      "   RegionID  RegionName           City State          Metro     CountyName  \\\n",
      "0     61639       10025       New York    NY       New York       New York   \n",
      "1     84654       60657        Chicago    IL        Chicago           Cook   \n",
      "2     61637       10023       New York    NY       New York       New York   \n",
      "3     84616       60614        Chicago    IL        Chicago           Cook   \n",
      "4     84640       60640        Chicago    IL        Chicago           Cook   \n",
      "5     91733       77084        Houston    TX        Houston         Harris   \n",
      "6     97564       94109  San Francisco    CA  San Francisco  San Francisco   \n",
      "7     61630       10016       New York    NY       New York       New York   \n",
      "8     84646       60647        Chicago    IL        Chicago           Cook   \n",
      "9     74242       37211      Nashville    TN      Nashville       Davidson   \n",
      "\n",
      "   SizeRank   1996-04   1996-05   1996-06   ...      2016-03   2016-04  \\\n",
      "0         1       NaN       NaN       NaN   ...     736600.0  741100.0   \n",
      "1         2   95000.0   95600.0   95400.0   ...     207600.0  209300.0   \n",
      "2         3       NaN       NaN       NaN   ...     873500.0  870300.0   \n",
      "3         4  114500.0  114500.0  113900.0   ...     237700.0  239600.0   \n",
      "4         5   78900.0   79200.0   79200.0   ...     131100.0  132600.0   \n",
      "5         6   29100.0   29300.0   29700.0   ...      54000.0   55100.0   \n",
      "6         7  191800.0  193500.0  193900.0   ...     831600.0  826600.0   \n",
      "7         8       NaN       NaN       NaN   ...     842800.0  845600.0   \n",
      "8         9  101000.0  100700.0  100000.0   ...     211400.0  213800.0   \n",
      "9        10   41600.0   39400.0   37500.0   ...      56200.0   52800.0   \n",
      "\n",
      "    2016-05  2016-06  2016-07  2016-08  2016-09  2016-10  2016-11  2016-12  \n",
      "0  743800.0   752700   761900   764600   769100   778200   787200   793100  \n",
      "1  210000.0   210300   210600   210600   210100   210800   212000   213000  \n",
      "2  870200.0   876100   880600   886900   895600   902100   910400   921900  \n",
      "3  240900.0   242600   243400   242900   241400   241200   242500   244300  \n",
      "4  134400.0   137800   141300   143300   143100   143700   144400   145100  \n",
      "5   55900.0    58500    62100    64700    63900    63500    63200    64000  \n",
      "6  819900.0   811400   803100   798700   799100   800300   802900   805300  \n",
      "7  847000.0   852700   861100   875600   892800   899800   903600   912400  \n",
      "8  215400.0   217700   219500   220600   223500   227300   230000   231700  \n",
      "9   49800.0    50700    52900    54300    55500    55800    55700    55800  \n",
      "\n",
      "[10 rows x 256 columns]\n"
     ]
    }
   ],
   "source": [
    "# Let's read in one of the property type documents and the supplementary documents to get a sense of the data\n",
    "import pandas as pd\n",
    "\n",
    "one = pd.read_csv('Zip_Zhvi_1bedroom.csv')\n",
    "\n",
    "print(one.head(10))"
   ]
  },
  {
   "cell_type": "markdown",
   "metadata": {},
   "source": [
    "We can see this document shows monthly housing prices for a one bedroom property type throughout the United States. It looks as if there is some missing data starting in 1996 so the missing values can just be ignored when using this data for statistics.\n"
   ]
  },
  {
   "cell_type": "code",
   "execution_count": 2,
   "metadata": {},
   "outputs": [
    {
     "name": "stdout",
     "output_type": "stream",
     "text": [
      "   RegionID  RegionName           City State          Metro     CountyName  \\\n",
      "0     61639       10025       New York    NY       New York       New York   \n",
      "1     84654       60657        Chicago    IL        Chicago           Cook   \n",
      "2     61637       10023       New York    NY       New York       New York   \n",
      "3     84616       60614        Chicago    IL        Chicago           Cook   \n",
      "4     93144       79936        El Paso    TX        El Paso        El Paso   \n",
      "5     84640       60640        Chicago    IL        Chicago           Cook   \n",
      "6     91733       77084        Houston    TX        Houston         Harris   \n",
      "7     97564       94109  San Francisco    CA  San Francisco  San Francisco   \n",
      "8     91982       77494    Cinco Ranch    TX        Houston      Fort Bend   \n",
      "9     62087       11375       New York    NY       New York         Queens   \n",
      "\n",
      "   SizeRank   1996-04   1996-05   1996-06    ...        2016-03    2016-04  \\\n",
      "0         1       NaN       NaN       NaN    ...      1341300.0  1350600.0   \n",
      "1         2  167700.0  166400.0  166700.0    ...       358900.0   360600.0   \n",
      "2         3       NaN       NaN       NaN    ...      1888200.0  1889400.0   \n",
      "3         4  195800.0  193500.0  192600.0    ...       393600.0   395000.0   \n",
      "4         5   59100.0   60500.0   60900.0    ...        82600.0    82600.0   \n",
      "5         6  123300.0  122600.0  122000.0    ...       240400.0   242800.0   \n",
      "6         7   40800.0   40800.0   40500.0    ...        93000.0    94300.0   \n",
      "7         8  336800.0  337400.0  337700.0    ...      1284700.0  1265900.0   \n",
      "8         9  117300.0  117900.0  118800.0    ...       231800.0   229500.0   \n",
      "9        10       NaN       NaN       NaN    ...       158000.0   151200.0   \n",
      "\n",
      "     2016-05  2016-06  2016-07  2016-08  2016-09  2016-10  2016-11    2016-12  \n",
      "0  1360500.0  1369500  1376000  1384000  1381000  1375600  1381000  1392500.0  \n",
      "1   362800.0   364000   365100   366700   368200   369600   371600   373300.0  \n",
      "2  1894800.0  1905300  1926700  1969900  2002500  1996700  1983600  1983600.0  \n",
      "3   395500.0   396100   396200   397100   398400   400700   402600   404000.0  \n",
      "4    82600.0    82700    82800    82600    82300    82200    82300    82400.0  \n",
      "5   245100.0   247800   249400   248600   246800   247000   248400   250100.0  \n",
      "6    95600.0    99100   101600   101400   100300   100500    99900    99500.0  \n",
      "7  1249900.0  1239900  1235200  1235700  1238300  1238300  1246300  1258500.0  \n",
      "8   224700.0   221800   224100   226800   227900   228800   229600   229300.0  \n",
      "9   147800.0   147200   146000   144800   146500   149300   150900   151100.0  \n",
      "\n",
      "[10 rows x 256 columns]\n"
     ]
    }
   ],
   "source": [
    "# Let's read in one more document to ensure that they are the same\n",
    "two = pd.read_csv('Zip_Zhvi_2bedroom.csv')\n",
    "\n",
    "print(two.head(10))"
   ]
  },
  {
   "cell_type": "markdown",
   "metadata": {},
   "source": [
    "This print out shows us that the 2 Bedroom property type documents are all the same, so that makes it fairly easy for us to deal with!\n",
    "\n",
    "Now, we will need to look at the supplementary document which will help us understand what information is provided in the median value per square foot report."
   ]
  },
  {
   "cell_type": "code",
   "execution_count": null,
   "metadata": {},
   "outputs": [],
   "source": [
    "# Let's read in the first supplementary document\n",
    "mvpsf = pd.read_csv('Zip_MedianValuePerSqft_AllHomes.csv')\n",
    "\n",
    "print(mvpsf.head(10))"
   ]
  },
  {
   "cell_type": "markdown",
   "metadata": {},
   "source": [
    "This document outlines the median value per square foot for each month throughout various cities in the United states. This period ranges from 1996 to 2016 similarly to the property type document we examined previously.\n"
   ]
  },
  {
   "cell_type": "markdown",
   "metadata": {},
   "source": [
    "## Data Analysis\n",
    "\n",
    "### Data Collection\n",
    "\n",
    "Now that we have reviewed the data, we need to make sure each of these documents can be accessed easily. To do this, a list of dataframes will be used so that each file can be accessed throughout the analysis. We have already read in the 1 and 2 bedroom property types, as well as the median value per square foot supplemental document. We only need to read in the 5 other property types now."
   ]
  },
  {
   "cell_type": "code",
   "execution_count": null,
   "metadata": {},
   "outputs": [],
   "source": [
    "# Read in the last 5 property types\n",
    "\n",
    "three = pd.read_csv('Zip_Zhvi_3bedroom.csv') \n",
    "four = pd.read_csv('Zip_Zhvi_4bedroom.csv') \n",
    "five = pd.read_csv('Zip_Zhvi_5BedroomOrMore.csv') \n",
    "condo = pd.read_csv('Zip_Zhvi_Condominum.csv') \n",
    "sfr = pd.read_csv('Zip_Zhvi_SingleFamilyResidence.csv') \n",
    "\n",
    "data_list = [mvpsf,one,two,three,four,five,condo,sfr]\n",
    "\n",
    "\n",
    "# The data has now been read in individually and can be called in this order:\n",
    "\n",
    "# - data_list[0] = Median Value per Square Foot\n",
    "# - data_list[1] = 1 Bedroom Property\n",
    "# - data_list[2] = 2 Bedroom Property\n",
    "# - data_list[3] = 3 Bedroom Property\n",
    "# - data_list[4] = 4 Bedroom Property\n",
    "# - data_list[5] = 5 Bedroom Property\n",
    "# - data_list[6] = Condominium Property\n",
    "# - data_list[7] = Single Family Residence Property"
   ]
  },
  {
   "cell_type": "markdown",
   "metadata": {},
   "source": [
    "### Property Types\n",
    "\n",
    "Now that the data has been read in, let's first look at the changing trends throughout the United States per property type for each month we have data for."
   ]
  },
  {
   "cell_type": "code",
   "execution_count": null,
   "metadata": {},
   "outputs": [],
   "source": [
    "import matplotlib.pyplot as plt\n",
    "%matplotlib inline\n",
    "plt.style.use('fivethirtyeight')\n",
    "\n",
    "# Set variables that will be used throughout code\n",
    "i=1\n",
    "\n",
    "# Set our property types list so that it will be added when needed.\n",
    "property_types = ['1 Bedroom','2 Bedroom', '3 Bedroom', '4 Bedroom', '5 Bedroom', 'Condominium', 'Single Family']\n",
    "\n",
    "\n",
    "while i < len(data_list):\n",
    "    # Takes mean of each each month in file and keeps only city, and months\n",
    "    means = data_list[i].mean().drop(['RegionID', 'RegionName', 'SizeRank'], axis = 0) \n",
    "    ax = means.plot(figsize = (15,8))\n",
    "    i += 1\n",
    "    \n",
    "ax.set_title(\"American Property Prices Over Time\", y=1.04)\n",
    "ax.set_xlabel(\"Date\")\n",
    "ax.set_ylabel(\"Avg Price Throughout America\")\n",
    "ax.legend(property_types,loc='upper left')\n",
    "tick_labels = ax.xaxis.get_ticklabels()\n",
    "\n",
    "plt.show()\n"
   ]
  },
  {
   "cell_type": "markdown",
   "metadata": {
    "collapsed": true
   },
   "source": [
    "In the above graph we can see that the housing market steadily increases from 1996 to roughly 2005. Here is where we start to see the market plateau and eventually crash. This corresponds exactly with the recession America faced at the start of 2008. We can see that just before 2012 the average price for all properties began to increase again and has continued to increase ever since.  \n",
    "\n",
    "It seems that 4 and 5 bedroom property types have been increasing and decreasing in different rates from the rest of the property types. The 5 bedroom property type seems to be more volatile as it grows and shrinks more rapidly than the rest, with the 4 bedroom property type a close second. The rest of the property types seem to grow and shrink at the same pace as one another.\n",
    "\n",
    "Lastly, it can be seen that the 3 bedroom property type is the best deal right now. The average price for a 3 bedroom property is roughly 275,000.00 across America. This means that you get more bang for your buck compared to the other houses. For example if you were to buy a 4 bedrooms house you would have to pay roughly 375,000.00 and for a 2 bedroom you would have to pay roughly 210,000.00. for only a 60,000.00 increase you can have 3 bedrooms. However, this does not take into account square footage, as we continue this analysis we may find that the better deal is not the 3 bedroom property"
   ]
  },
  {
   "cell_type": "markdown",
   "metadata": {
    "collapsed": true
   },
   "source": [
    "## Ranking Property Types\n",
    "\n",
    "In this section we will write some code to rank the property types in each city from most expensive to least expensive. Most expensive will have a rank of 1, least expensive will have a rank of 7."
   ]
  },
  {
   "cell_type": "code",
   "execution_count": null,
   "metadata": {
    "collapsed": true
   },
   "outputs": [],
   "source": [
    "# Initialize starting values that are needed\n",
    "i=1\n",
    "\n",
    "# Specify the columns we want to keep\n",
    "keep_cols = ['City','State', 'Metro', '2016-12']\n",
    "\n",
    "# Initialize new dataframe\n",
    "city_rankings = pd.DataFrame()\n",
    "\n",
    "# Define the method that will calculate the average for each city in the respective dataframes\n",
    "def calc_avg_city(row):\n",
    "    latest_data = data_list[i][data_list[i]['City'] == row['City']]['2016-12']\n",
    "    return latest_data.mean()\n",
    "\n",
    "# Define the method that will map the correct state to the city\n",
    "def apply_map_state(row):\n",
    "    state = data_list[i][data_list[i]['City'] == row['City']]['State']\n",
    "    return state.iloc[0]\n",
    "\n",
    "# Define the method that will map the correct metro area to the city\n",
    "def apply_map_metro(row):\n",
    "    state = data_list[i][data_list[i]['City'] == row['City']]['Metro']\n",
    "    return state.iloc[0]\n",
    "\n",
    "# Complete the following loop for each property type datafile we have\n",
    "while i < len(data_list)-1: \n",
    "    \n",
    "    # Used to initialize our new dataframe and collect the information we require\n",
    "    if i == 1:\n",
    "        city_data = data_list[i][keep_cols]\n",
    "        unique_data = data_list[i]['City'].unique()\n",
    "        city_rankings['City'] = unique_data\n",
    "        city_rankings['State'] = city_rankings.apply(apply_map_state, axis=1)\n",
    "        city_rankings['Metro'] = city_rankings.apply(apply_map_metro, axis=1)\n",
    "    \n",
    "    # calculates average property value per city\n",
    "    city_rankings[property_types[i-1]] = city_data.apply(calc_avg_city,axis=1)\n",
    "    \n",
    "    i += 1\n",
    "\n",
    "city_rankings_nan = city_rankings\n",
    "\n",
    "# Fill all NAN values with 0\n",
    "city_rankings = city_rankings.fillna(value=0)\n",
    "city_prices = city_rankings\n",
    "\n",
    "city_rankings.head(20)\n",
    "\n"
   ]
  },
  {
   "cell_type": "markdown",
   "metadata": {},
   "source": [
    "Here is output of the average values for each property type, per city. We had to consolidate as many cities as we could because there is no point examining any city that doesn't have two or three of the property type data points. On that note, we can see here that any 'NAN' value in the 5 bedroom property type has been filled with 0. This will allow us to still use the majority of the other data. \n",
    "\n",
    "We can now complete our rankings with a simple function in the next cell. However, before we move on, it is important to note that because any 'NAN' value has been filled with 0, it is automatically going to come last on the ranking. This means that, as these ranking values are used further down the line, we have to remember that the 5 bedroom type data is skewed."
   ]
  },
  {
   "cell_type": "code",
   "execution_count": null,
   "metadata": {
    "collapsed": true
   },
   "outputs": [],
   "source": [
    "# Calculates the ranking for the 7 property types, returns an array starting with 1 Bedroom \n",
    "# and ends with Single Family Property\n",
    "\n",
    "new_city_rankings = city_rankings\n",
    "\n",
    "#print(new_city_rankings.head(10))\n",
    "property_types = ['1 Bedroom','2 Bedroom', '3 Bedroom', '4 Bedroom', '5 Bedroom', 'Condominium', 'Single Family']\n",
    "def calc_ranking(row):\n",
    "\n",
    "    values = row[property_types].rank(axis=0,ascending=False)\n",
    "\n",
    "    return values\n",
    "\n",
    "new_city_rankings[property_types] = new_city_rankings.apply(calc_ranking, axis=1)\n",
    "\n",
    "mean_property_rank = new_city_rankings[property_types].mean()\n",
    "\n",
    "print(mean_property_rank)\n"
   ]
  },
  {
   "cell_type": "markdown",
   "metadata": {},
   "source": [
    "Here we can see the output form the mean ranking for each property type. Before we examine the results, let's create a graph of this data so we can better visualize it."
   ]
  },
  {
   "cell_type": "code",
   "execution_count": null,
   "metadata": {
    "collapsed": true
   },
   "outputs": [],
   "source": [
    "mean_property_rank.plot(kind='bar')\n",
    "plt.title('Property Type vs Average Ranking', y=1.04)\n",
    "plt.xlabel(\"Property Type\")\n",
    "plt.ylabel(\"Avg Rank\")\n",
    "plt.show()"
   ]
  },
  {
   "cell_type": "markdown",
   "metadata": {},
   "source": [
    "In this graph we can see that a 5 bedroom property type is the most expensive property type as our scale is from most expensive 1 to least expensive 7. This is definitely counterintuitive because in this graph we would think the best performer is the largest amount, but in fact it is the opposite when we use a ranking system like this.\n",
    "\n",
    "For the 5 bedroom property type, we can see it is the most expensive property type, however, we do have to careful with this value. Due to any missing values 'NAN', as stated earlier, we know that this is slightly skewed higher because any 'NAN' value had a ranking of 7. This ranking of 7 for some of the cities then skewed the average result causing the value to be higher than it should be if we were to not include the cities that had no data.\n",
    "\n",
    "If we did not to include these cities that had any 'NAN' values in them, we would not have much data at all, that is why they still need to be included."
   ]
  },
  {
   "cell_type": "code",
   "execution_count": null,
   "metadata": {
    "collapsed": true
   },
   "outputs": [],
   "source": [
    "# Calculates the typical real estate market for that given city\n",
    "\n",
    "def calculate_similarity(row, average_ranks):\n",
    "    #print(row)\n",
    "    #print(average_ranks)\n",
    "    return (row - average_ranks).abs().mean()\n",
    "\n",
    "\n",
    "typical_property_value = new_city_rankings\n",
    "\n",
    "typical_property_value['Normality'] = typical_property_value[property_types].apply(\n",
    "    calculate_similarity, args=(mean_property_rank,),axis=1)\n",
    "                                                                                    \n",
    "typical_property_value.head(10)                                                                                                                                                                    \n",
    "                                                                                    "
   ]
  },
  {
   "cell_type": "markdown",
   "metadata": {},
   "source": [
    "On the far right we can now easily see which citys have a typical real estate market and which that do not. We will look at these separately and graph them to be easily examined in the next steps."
   ]
  },
  {
   "cell_type": "code",
   "execution_count": null,
   "metadata": {
    "collapsed": true,
    "scrolled": true
   },
   "outputs": [],
   "source": [
    "highly_normal = typical_property_value[['City','Normality']].sort_values(by='Normality',ascending=True)\n",
    "highly_normal = highly_normal.set_index(keys='City')\n",
    "ax = highly_normal.head(15).plot(kind='bar')\n",
    "plt.title('Top 15 Typical Real Estate Markets in America by City', y=1.04)\n",
    "plt.xlabel('City')\n",
    "plt.ylabel('Normality')\n",
    "ax.legend_.remove()\n",
    "plt.show()"
   ]
  },
  {
   "cell_type": "markdown",
   "metadata": {},
   "source": [
    "The above graph shows us the most typical real estate markets by city. We can see that the closer the value is to zero the lower the discrepancy is between the averages and the rankings by city. Sun City is found to be the most typical out of our entire list."
   ]
  },
  {
   "cell_type": "code",
   "execution_count": null,
   "metadata": {
    "collapsed": true
   },
   "outputs": [],
   "source": [
    "not_normal = typical_property_value[['City','Normality']].sort_values(by='Normality',ascending=False)\n",
    "not_normal = not_normal.set_index(keys='City')\n",
    "ax = not_normal.head(15).plot(kind='bar')\n",
    "plt.title('Top 15 Least Typical Real Estate Markets in America by City', y=1.04)\n",
    "plt.xlabel('City')\n",
    "plt.ylabel('Normality')\n",
    "ax.legend_.remove()\n",
    "plt.show()"
   ]
  },
  {
   "cell_type": "markdown",
   "metadata": {},
   "source": [
    "The above graph shows us the least typical real estate markets by city. We can see that the further the value is from zero the higher the discrepancy is between the averages and the rankings by city. New York is found to be the least typical out of our entire list."
   ]
  },
  {
   "cell_type": "markdown",
   "metadata": {},
   "source": [
    "### Property Type Pricing Trends\n",
    "\n",
    "Now that we have concluded which real estate markets are the most and least typical we can figure out which cities have the largest pricing trends between property types.\n",
    "\n",
    "For this part of the analysis we will want to use the Median Value per Square Foot document which is data_list[0]. We will be subtracting the most recent value subtracted by the oldest value we have on record for each city. This will give us the largest price increase as well as decrease across America to ultimately help us answer our question of where to buy a house."
   ]
  },
  {
   "cell_type": "code",
   "execution_count": null,
   "metadata": {
    "collapsed": true
   },
   "outputs": [],
   "source": [
    "import numpy as np\n",
    "\n",
    "median_square_foot = data_list[0][data_list[0]['City'].isin(typical_property_value['City'].unique())].fillna(0)\n",
    "\n",
    "def calc_price_change(row):\n",
    "    \n",
    "    price_data = row[median_square_foot.columns[7:]]\n",
    "    beg_price = price_data[price_data > 0].head(1).iloc[0]\n",
    "    end_price = price_data[price_data > 0].tail(1).iloc[0]\n",
    "    return ((end_price - beg_price)/beg_price) * 100\n",
    "\n",
    "median_square_foot['Price Change (%)'] = median_square_foot.apply(calc_price_change,axis=1)\n",
    "\n",
    "median_square_foot.head(20)"
   ]
  },
  {
   "cell_type": "markdown",
   "metadata": {},
   "source": [
    "In the above printout, if we scroll to the far right we see that the 'Price Change (%)' is now the last column. This column outlines the largest and smallest price increases (or decreases). However, there are more than one entry per city here, so we need to be sure we take the average of each city before we can be sure of the price changes. In the next cell we will group all transactions by city and find the mean. Giving us a list of unique city names that have an overall average for the price change in percent."
   ]
  },
  {
   "cell_type": "code",
   "execution_count": null,
   "metadata": {
    "collapsed": true
   },
   "outputs": [],
   "source": [
    "unique_city_price_change = median_square_foot.groupby('City')['Price Change (%)'].mean()\n",
    "print(median_square_foot[median_square_foot['City']=='New York'])\n",
    "print(unique_city_price_change)"
   ]
  },
  {
   "cell_type": "markdown",
   "metadata": {},
   "source": [
    "One thing to note is that when this average is taken by city we lose the resolution into the 'CountyName'. For example, if we were to look at New York as outlined above (scrolling to the very top) we will no longer see the difference between the counties of Kings,Queens,New York, Bronx, or Richmond. However, for our purposes we only want to look at cities across america and so removing these columns is ok as we take the average of all of these locations.\n",
    "\n",
    "Now that we have identified the price changes, both the 15 largest increases and decreases will be plotted to allow us to visually examine the data."
   ]
  },
  {
   "cell_type": "code",
   "execution_count": null,
   "metadata": {
    "collapsed": true
   },
   "outputs": [],
   "source": [
    "largest_15_increase = unique_city_price_change.sort_values(ascending=False).head(15)\n",
    "ax = largest_15_increase.plot(kind='bar')\n",
    "plt.title('15 Largest Price Increases by City', y=1.04)\n",
    "plt.xlabel('Cities')\n",
    "plt.ylabel('Price Change (%)')\n",
    "plt.show()"
   ]
  },
  {
   "cell_type": "markdown",
   "metadata": {},
   "source": [
    "We can see that West Hollywood has over a 400% increase in mean price per square foot. The next closest is Jersey City with slightly over a 400% increase in mean price per square foot. Now, let's look at the 15 largest price decreases by city."
   ]
  },
  {
   "cell_type": "code",
   "execution_count": null,
   "metadata": {
    "collapsed": true
   },
   "outputs": [],
   "source": [
    "largest_15_decrease = unique_city_price_change.sort_values(ascending=True).head(15)\n",
    "ax = largest_15_decrease.plot(kind='bar')\n",
    "plt.title('15 Largest Price Decreases by City', y=1.04)\n",
    "plt.xlabel('Cities')\n",
    "plt.ylabel('Price Change (%)')\n",
    "plt.show()"
   ]
  },
  {
   "cell_type": "markdown",
   "metadata": {},
   "source": [
    "In the above graph we can see that the city with the largest decrease in mean price per square foot is Xenia which is just over a 15% decrease. The next closest is Ellwood City with a decrease in mean price per square foot of roughly 15%.\n",
    "\n",
    "## Average Property Type Prices\n",
    "\n",
    "We require one last piece of information before we can consolidate all information and find out which is the best location to buy a property. We need to determine how expensive each city is by calculating the average property type prices. We are going to take the average of all property type prices of a given city and create a list of most expensive to least expense and see if we can find any correlations between Price Changes, Rankings, and Average price of property types."
   ]
  },
  {
   "cell_type": "code",
   "execution_count": null,
   "metadata": {
    "collapsed": true
   },
   "outputs": [],
   "source": [
    "def calc_avg(row):\n",
    "    property_types = row[city_rankings_nan.columns[7:]]\n",
    "    return property_types.mean()\n",
    "city_rankings_nan['Avg Cost'] = city_rankings_nan.apply(calc_avg, axis=1)\n",
    "\n",
    "city_cost = city_rankings_nan[['City', 'Avg Cost']]\n",
    "print(city_cost)"
   ]
  },
  {
   "cell_type": "markdown",
   "metadata": {},
   "source": [
    "The above is a print out of the average property type cost in a given city. To visualize this data we want to print the 30 largest cities and see what the average values are."
   ]
  },
  {
   "cell_type": "code",
   "execution_count": null,
   "metadata": {
    "collapsed": true
   },
   "outputs": [],
   "source": [
    "city_cost_sorted = city_cost.set_index(keys='City')\n",
    "city_cost_sorted = city_cost_sorted.sort_values(by='Avg Cost',ascending=False).head(30)\n",
    "\n",
    "ax = city_cost_sorted.plot(kind='Bar',figsize=(10,5))\n",
    "\n",
    "plt.title('Avg Cost of Property by City', y=1.04)\n",
    "plt.xlabel('City')\n",
    "plt.ylabel('Avg Cost of Property')\n",
    "ax.legend().set_visible(False)\n",
    "plt.show()"
   ]
  },
  {
   "cell_type": "markdown",
   "metadata": {},
   "source": [
    "Now that we know the relative cost of property types are within given cities we can start using all of the data we have gathered to determine where we want to buy a house. First, we want to buy a property in a city that has been steadily increasing in price. Here we can use our price increase data.\n",
    "\n",
    "## Choosing a Location and Property Type to Buy\n",
    "\n",
    "In order to choose the location where we want to buy a house we first need to make sure our criteria from the introduction will be met. As a reminder, this is the criteria:\n",
    "\n",
    "- We want to buy in a location that is steadily increasing in price, allowing us to hopefully make a profit when it is sold\n",
    "- We want to determine which housing types are mispriced within this city, the further the misprice, the better the deal may be\n",
    "- Due to budgetary reasons, we want to buy in a relatively cheap city\n",
    "\n",
    "If we scroll up we can see that there are a few locations that have been steadily increasing. Let's look at the top 15 cities that have been increasing and see if any fit our requirements. "
   ]
  },
  {
   "cell_type": "code",
   "execution_count": null,
   "metadata": {
    "collapsed": true
   },
   "outputs": [],
   "source": [
    "sorted_increasing = typical_property_value[typical_property_value['City'].isin(largest_15_increase.index)].sort_values(by='Normality',ascending=False)\n",
    "\n",
    "ax = sorted_increasing.plot(kind='bar',x='City',y='Normality')\n",
    "plt.title('Normality of Real Estate Industry by City')\n",
    "plt.ylabel('Normality')\n",
    "ax.legend_.remove()\n",
    "plt.show()\n"
   ]
  },
  {
   "cell_type": "markdown",
   "metadata": {},
   "source": [
    "In this graph we can see that West Hollywood and Hermosa Beach are the two cities that have the least typical real estate industries. Now, let's explore what the average price of property is at these two locations."
   ]
  },
  {
   "cell_type": "code",
   "execution_count": null,
   "metadata": {
    "collapsed": true
   },
   "outputs": [],
   "source": [
    "print(city_cost[city_cost['City'].isin(['West Hollywood', 'Hermosa Beach'])])"
   ]
  },
  {
   "cell_type": "markdown",
   "metadata": {},
   "source": [
    "We can see that both of these prices are quite reasonable for an average property type price when looking at our 30 largest prices. The largest average price came in over 300,000. Both of these prices are under half of that largest price. Because of this, we may want to choose Hermosa Beach as it's average price is less than the average price of properties in West Hollywood.\n",
    "\n",
    "Finally to choose what type of property we will want to buy we will have to look at ranking types and compare it to the national average."
   ]
  },
  {
   "cell_type": "code",
   "execution_count": null,
   "metadata": {
    "collapsed": true
   },
   "outputs": [],
   "source": [
    "print(typical_property_value[typical_property_value['City'] == 'Hermosa Beach'],'\\n')\n",
    "print('The average ranking is: \\n', mean_property_rank)\n"
   ]
  },
  {
   "cell_type": "markdown",
   "metadata": {},
   "source": [
    "We can see here that a 4 bedroom property is actually the most expensive at Hermosa Beach, while a 5 bedroom property type is the least expensive, as no data was provided for this city."
   ]
  },
  {
   "cell_type": "code",
   "execution_count": null,
   "metadata": {
    "collapsed": true
   },
   "outputs": [],
   "source": [
    "print(city_prices[city_prices['City'] == 'Hermosa Beach'])"
   ]
  },
  {
   "cell_type": "markdown",
   "metadata": {},
   "source": [
    "One generalization we should be able to make is that if we had data for the 5 bedroom property type, it would almost certainly be the most expensive. This would then lead us to the following conclusions:\n",
    "\n",
    "1 Bedroom        7\n",
    "2 Bedroom        5\n",
    "3 Bedroom        3\n",
    "4 Bedroom        2\n",
    "5 Bedroom        1\n",
    "Condominium      6\n",
    "Single Family    4\n",
    "\n",
    "Let's look at the differences between this new assumed value and the mean property type ranking."
   ]
  },
  {
   "cell_type": "code",
   "execution_count": null,
   "metadata": {
    "collapsed": true
   },
   "outputs": [],
   "source": [
    "# This diff list is the difference between the assumed value and the mean property type.\n",
    "diff = [7-6.47,5-5.27,3-3.77,2-2.10,1-1.53,6-5.59,4-3.27]\n",
    "\n",
    "property_types = ['1 Bedroom','2 Bedroom', '3 Bedroom', '4 Bedroom', '5 Bedroom', 'Condominium', 'Single Family']\n",
    "\n",
    "fig,ax = plt.subplots()\n",
    "ax.bar([1,2,3,4,5,6,7],diff,width=0.25)\n",
    "plt.title('Largest Mispriced Property Types', y=1.04)\n",
    "plt.xlabel('Property Types')\n",
    "plt.ylabel('Ranking Difference')\n",
    "plt.xticks([1,2,3,4,5,6,7],property_types,rotation=45)\n",
    "plt.show()"
   ]
  },
  {
   "cell_type": "markdown",
   "metadata": {},
   "source": [
    "In this graph we can see that the largest positive difference refers to Single Family property. We now know that the best deal is the Single Family home when compared to the national average in the city of Hermosa Beach"
   ]
  },
  {
   "cell_type": "markdown",
   "metadata": {},
   "source": [
    "## Conclusion\n"
   ]
  },
  {
   "cell_type": "markdown",
   "metadata": {
    "collapsed": true
   },
   "source": [
    "In conclusion, we have found that the best property type and location to purchase is a Single Family Home in Hermosa Beach, California. The reason for this is because it fits our criteria to a 'T'. It's pricing trend has been steadily increasing. It is relatively cheap compared to the national averages. Lastly, we have found that the Single Family Property is the largest mispriced property compared to National average in this location."
   ]
  },
  {
   "cell_type": "code",
   "execution_count": null,
   "metadata": {
    "collapsed": true
   },
   "outputs": [],
   "source": []
  }
 ],
 "metadata": {
  "kernelspec": {
   "display_name": "Python 3",
   "language": "python",
   "name": "python3"
  },
  "language_info": {
   "codemirror_mode": {
    "name": "ipython",
    "version": 3
   },
   "file_extension": ".py",
   "mimetype": "text/x-python",
   "name": "python",
   "nbconvert_exporter": "python",
   "pygments_lexer": "ipython3",
   "version": "3.6.1"
  }
 },
 "nbformat": 4,
 "nbformat_minor": 2
}
