{
 "cells": [
  {
   "cell_type": "markdown",
   "metadata": {},
   "source": [
    "# Recognizing Patterns in Crime\n",
    "\n",
    "For this analysis we will be looking at crime in Montgomery county Maryland. Using this data we can hopefully answer a few questions.\n",
    "\n",
    "Using the dates we can determine the following:\n",
    "\n",
    "1) During what month are most crimes committed?\n",
    "2) During what time of the day are most crimes committed?\n",
    "3) What day of the week are most likely to NOT be committed? \n",
    "\n",
    "\n"
   ]
  },
  {
   "cell_type": "code",
   "execution_count": 43,
   "metadata": {},
   "outputs": [
    {
     "name": "stdout",
     "output_type": "stream",
     "text": [
      "The month's of crime committed: \n",
      "7     3520\n",
      "8     4002\n",
      "9     3927\n",
      "10    4075\n",
      "11    3941\n",
      "12    3904\n",
      "Name: Dispatch Date / Time, dtype: int64\n",
      "The time of crime committed during the day vs night: \n",
      "True     13813\n",
      "False     9556\n",
      "Name: Dispatch Date / Time, dtype: int64\n",
      "Crimes broken down by 6 hour intervals: \n",
      "{'Night': 3269, 'Morning': 6971, 'Afternoon': 6842, 'Evening': 6287}\n",
      "The days of crime committed on: \n",
      "Tuesday      3836\n",
      "Monday       3734\n",
      "Wednesday    3611\n",
      "Friday       3594\n",
      "Thursday     3404\n",
      "Saturday     2807\n",
      "Sunday       2383\n",
      "Name: Dispatch Date / Time, dtype: int64\n"
     ]
    }
   ],
   "source": [
    "# Let's first read in the data and clean it up a bit.\n",
    "\n",
    "import pandas as pd\n",
    "import datetime as dt\n",
    "\n",
    "crime_data = pd.read_csv(\"MontgomeryCountyCrime2013.csv\")\n",
    "crime_data['Dispatch Date / Time'] = pd.to_datetime(crime_data['Dispatch Date / Time'])\n",
    "\n",
    "# Print out the # of crimes committed in each month\n",
    "month_of_crime = crime_data['Dispatch Date / Time'].dt.month\n",
    "month_of_crime_sorted = month_of_crime.value_counts().sort_index()\n",
    "print(\"The month's of crime committed: \")\n",
    "print(month_of_crime_sorted)\n",
    "\n",
    "# Print out the number of crimes that occur in the day and night \n",
    "# day is defined as the time between 6am - 6pm.\n",
    "hour_crime = crime_data['Dispatch Date / Time'].dt.hour\n",
    "day_crime = (hour_crime >= 6) & (hour_crime < 18)\n",
    "\n",
    "# print out the result!\n",
    "print(\"The time of crime committed during the day vs night: \")\n",
    "print(day_crime.value_counts())\n",
    "\n",
    "# create an empty dictionary for our intervals\n",
    "crime_by_6hours = {'Night':'','Morning':'',\"Afternoon\":'', \"Evening\":''}\n",
    "i = 0\n",
    "# create a for loop that goes through the various dictionary keys applying the filter we want\n",
    "# to for each 6 hour time interval\n",
    "for item, val in crime_by_6hours.items():\n",
    "    crime_by_6hours[item] = hour_crime[(hour_crime >= i) & (hour_crime < i+6)].shape[0]\n",
    "    i += 6\n",
    "\n",
    "# print out the results!\n",
    "print(\"Crimes broken down by 6 hour intervals: \")\n",
    "print(crime_by_6hours)\n",
    "\n",
    "weekday_of_crime = crime_data['Dispatch Date / Time'].dt.weekday_name\n",
    "weekday_of_crime_sorted = weekday_of_crime.value_counts()\n",
    "\n",
    "print(\"The days of crime committed on: \")\n",
    "print(weekday_of_crime_sorted)\n",
    "\n"
   ]
  },
  {
   "cell_type": "markdown",
   "metadata": {
    "collapsed": true
   },
   "source": [
    "When looking at the above print outs we can now make some conclusions:\n",
    "\n",
    "The dataset only contains data from July - December. That is obviously a limitation of the data and we cannot make full assumptions. If we were to take this data seriously we would need to have many years of crime data in order to make full conclusions. \n",
    "\n",
    "1) However, using this data we see that rougly a similar amount of committed crimes occuring from August to December. Without more data we can only make so many conclusions, but it looks like July is either an outlier with a decrease in crime or part of the year that has less crimes being committed.\n",
    "\n",
    "2) We have found that crimes committed during the day vs night are 13813 to 9556, it is quite obvious that the majority of crime happens during the day. A whole 31% difference! \n",
    "Now let's look at this more in depth, let's break this out into the morning, afternoon, evening, and night.\n",
    "\n",
    "morning -> 6am - 12pm -> Total crimes committed = 6971\n",
    "afternoon = 12pm - 6pm -> Total crimes committed = 6842\n",
    "evening = 6pm - 12am -> Total crimes committed = 6287\n",
    "night = 12am - 6am -> Total crimes committed = 3269\n",
    "\n",
    "Now we have a better resolution of the times the crimes occur. We can see that during the night crimes are roughly cut in half, this is what we would expect as we would think most people would be sleeping between 12am - 6am, even the criminals!\n",
    "\n",
    "3) Lastly, we want to look at what day of the week is least likely that crimes will be committed on. We can see that the least likely crimes are going to be committed on is saturday and sunday. It seems even criminals need to take a break every once in awhile..."
   ]
  },
  {
   "cell_type": "code",
   "execution_count": null,
   "metadata": {
    "collapsed": true
   },
   "outputs": [],
   "source": []
  }
 ],
 "metadata": {
  "kernelspec": {
   "display_name": "Python 3",
   "language": "python",
   "name": "python3"
  },
  "language_info": {
   "codemirror_mode": {
    "name": "ipython",
    "version": 3
   },
   "file_extension": ".py",
   "mimetype": "text/x-python",
   "name": "python",
   "nbconvert_exporter": "python",
   "pygments_lexer": "ipython3",
   "version": "3.6.1"
  }
 },
 "nbformat": 4,
 "nbformat_minor": 2
}
