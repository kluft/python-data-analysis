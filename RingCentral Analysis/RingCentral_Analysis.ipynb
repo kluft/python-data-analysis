{
 "cells": [
  {
   "cell_type": "markdown",
   "metadata": {},
   "source": [
    "# Phone Time per Month Analysis\n",
    "\n",
    "In this analysis I will be sifting through large amounts of data to determine an average value a bookkeeper within the company is on the phone for. There are two differences we will want to look at here:\n",
    "\n",
    "Incoming Calls - Which are calls that the client calls the bookkeeper at any given time (should be much lower than outgoing)\n",
    "\n",
    "Outgoing Calls - Which are calls that the bookkeeper makes to the client (or someone else)\n",
    "\n",
    "Using these two values we can come up with an average representation of how long a bookkeeper is on the phone for:\n",
    "\n",
    "Total time on phone per month = Avg Incoming call time + Avg Outgoing call time\n",
    "\n",
    "NOTE* It is important that limitations are realized. \n",
    "\n",
    "1) This analysis does not account for the difference due to tax time phone calls\n",
    "2) Ring Central has been known not to accurately track calls which may affect more than one bookkeeper\n",
    "3) Within the RingCentral data as an extension is recycled, there is a chance that the data may not have been ported over correctly. Our calculation can only be as accurate as the data we use. This is likely a small error and wouldn't affect the bookkeepers as much as it would someone that is on the phone for longer extents."
   ]
  },
  {
   "cell_type": "code",
   "execution_count": 293,
   "metadata": {},
   "outputs": [],
   "source": [
    "import pandas as pd\n",
    "import datetime\n",
    "\n",
    "# open up the two files we need to work with, the first outlines the time that needs to be summed\n",
    "# the second outlines the list that will need to be cross referenced in order to get the time per month on the phone \n",
    "all_call_log = pd.read_csv(\"Call Logs for CC Utilization.csv\")\n",
    "bench_tenure = pd.read_csv(\"Bench Tenure.csv\")\n",
    "\n",
    "# convert the dataframe into a dictionary of values that can be searched.\n",
    "bench_tenure = bench_tenure.set_index(\"Name\")[\"Tenure (Months)\"].to_dict()\n",
    "\n",
    "# sets all null values to 0\n",
    "test = all_call_log.isnull()\n",
    "all_call_log[test] = '0'\n",
    "\n",
    "# filters out the two types we want to look at Incoming & Outgoing calls\n",
    "type_list = (all_call_log['Direction'] == 'Incoming')\n",
    "in_call_log = all_call_log[type_list]\n",
    "\n",
    "type_list = (all_call_log['Direction'] == 'Outgoing')\n",
    "out_call_log = all_call_log[type_list]\n",
    "\n"
   ]
  },
  {
   "cell_type": "code",
   "execution_count": 310,
   "metadata": {},
   "outputs": [
    {
     "name": "stdout",
     "output_type": "stream",
     "text": [
      "35.89903505393651\n"
     ]
    }
   ],
   "source": [
    "#Analyzing Incoming Calls\n",
    "\n",
    "# Create a filter for entries that do not equal \"Voice\" in the type column\n",
    "in_call_log = in_call_log[in_call_log[\"Type\"] != \"Voice\" ]\n",
    "# Create a filter for entries that equal \"Accepted\" in the Action_Result column\n",
    "in_call_log = in_call_log[in_call_log[\"Action_Result\"] == \"Accepted\"]\n",
    "\n",
    "# sorts values by column Extension - this is how the calculation will be based, using extension values\n",
    "in_call_log = in_call_log.sort_values(by=\"Extension\",axis=0)\n",
    "# creates a list of unique extensions based on the column extension in the dataframe\n",
    "unique_extension = list(in_call_log[\"Extension\"].unique())\n",
    "\n",
    "# creates an empty dictionary\n",
    "min_per_month_values = {}\n",
    "\n",
    "\n",
    "# This method calculates the duration (in minutes) using a given date time \n",
    "# It takes a value of 01:30:15 -> The duration is 1 hour, 30 minutes, and 15 seconds\n",
    "# This method then takes the 1 hour multiplies it by 60 to get minuts, adds the minute value, and adds a fraction of the seconds by dividing it by 60\n",
    "# The time_calc result of 01:30:15 is 90.25 minutes\n",
    "def time_calc(time_val):\n",
    "    time_val = time_val.split(\":\")\n",
    "    try:\n",
    "        return float(time_val[0])*60 + float(time_val[1]) + float(time_val[2])/60\n",
    "    except:\n",
    "        return 0\n",
    "\n",
    "\n",
    "# Within this for loop, the main calculation occurs. The total time on the phone for incoming calls is calculated\n",
    "# which is then divided by the tenure time the bookkeeper was at Bench for. Giving us with a value that is \n",
    "# phone time per month.\n",
    "for extension in unique_extension:\n",
    "    # Creates a series of duration times that will need to be summed.\n",
    "    bk_time = in_call_log[in_call_log[\"Extension\"]==extension][\"Duration\"].apply(time_calc)\n",
    "    # Find the tenure for this persons length at Bench\n",
    "    for benchmate, tenure_val in bench_tenure.items():\n",
    "        if benchmate in extension:\n",
    "            tenure = tenure_val\n",
    "            break\n",
    "        else:\n",
    "            tenure = 0\n",
    "    # Might receive a division by 0 error as some tenure values are 0, so we need to use a try, except block\n",
    "    try:\n",
    "        min_per_month_values[extension] = bk_time.sum()/tenure\n",
    "    except:\n",
    "        min_per_month_values[extension] = 0\n",
    "\n",
    "# Convert dictionary into dataframe and rename column 0 to 'PhoneTime'        \n",
    "per_month_values = pd.DataFrame.from_dict(min_per_month_values, orient='index').rename(columns={0:'PhoneTime'})      \n",
    "\n",
    "# Filter out values for all but non-zero values\n",
    "per_month_values = per_month_values[per_month_values['PhoneTime'] != 0.00]\n",
    "\n",
    "# The average phone time per month value we need to include for Incoming phone Calls\n",
    "average_incoming_phone_time = per_month_values['PhoneTime'].mean()\n",
    "\n",
    "print(average_incoming_phone_time)\n"
   ]
  },
  {
   "cell_type": "code",
   "execution_count": 311,
   "metadata": {},
   "outputs": [
    {
     "name": "stdout",
     "output_type": "stream",
     "text": [
      "212.5382571906727\n"
     ]
    }
   ],
   "source": [
    "# Let's now analyze outgoing phone time\n",
    "# This process is essentially the same, just using the Outgoing call data instead!\n",
    "\n",
    "# Create a filter for entries that do not equal \"Voice\" in the type column\n",
    "out_call_logs = out_call_log[out_call_log[\"Type\"] == \"Voice\" ]\n",
    "\n",
    "\n",
    "# sorts values by column Extension - this is how the calculation will be based, using extension values\n",
    "out_call_logs = out_call_logs.sort_values(by=\"Extension\",axis=0)\n",
    "# creates a list of unique extensions based on the column extension in the dataframe\n",
    "unique_extension = list(out_call_logs[\"Extension\"].unique())\n",
    "\n",
    "# creates an empty dictionary\n",
    "min_per_month_values = {}\n",
    "\n",
    "\n",
    "# Within this for loop, the main calculation occurs. The total time on the phone for incoming calls is calculated\n",
    "# which is then divided by the tenure time the bookkeeper was at Bench for. Giving us with a value that is \n",
    "# phone time per month.\n",
    "for extension in unique_extension:\n",
    "    # Creates a series of duration times that will need to be summed.\n",
    "    bk_time = out_call_logs[out_call_logs[\"Extension\"]==extension][\"Duration\"].apply(time_calc)\n",
    "    # Find the tenure for this persons length at Bench\n",
    "    for benchmate, tenure_val in bench_tenure.items():\n",
    "        if benchmate in extension:\n",
    "            tenure = tenure_val\n",
    "            break\n",
    "        else:\n",
    "            tenure = 0\n",
    "    # Might receive a division by 0 error as some tenure values are 0, so we need to use a try, except block\n",
    "    try:\n",
    "        min_per_month_values[extension] = bk_time.sum()/tenure\n",
    "    except:\n",
    "        min_per_month_values[extension] = 0\n",
    "\n",
    "        \n",
    "# Convert dictionary into dataframe and rename column 0 to 'PhoneTime'        \n",
    "per_month_values = pd.DataFrame.from_dict(min_per_month_values, orient='index').rename(columns={0:'PhoneTime'})      \n",
    "\n",
    "# Filter out values for all but non-zero values\n",
    "per_month_values = per_month_values[per_month_values['PhoneTime'] != 0.00]\n",
    "\n",
    "# The average phone time per month value we need to include for Incoming phone Calls\n",
    "average_outgoing_phone_time = per_month_values['PhoneTime'].mean()\n",
    "\n",
    "print(average_outgoing_phone_time)"
   ]
  },
  {
   "cell_type": "markdown",
   "metadata": {},
   "source": [
    "Using this method, I have found that the average time for bookkeepers on the phone:\n",
    "\n",
    "Outgoing = 212.54 minutes\n",
    "Incoming = 35.90 minutes\n",
    "\n",
    "Total = 248.44 minutes/month\n",
    "\n",
    "Analysis complete!"
   ]
  }
 ],
 "metadata": {
  "kernelspec": {
   "display_name": "Python 3",
   "language": "python",
   "name": "python3"
  },
  "language_info": {
   "codemirror_mode": {
    "name": "ipython",
    "version": 3
   },
   "file_extension": ".py",
   "mimetype": "text/x-python",
   "name": "python",
   "nbconvert_exporter": "python",
   "pygments_lexer": "ipython3",
   "version": "3.6.1"
  }
 },
 "nbformat": 4,
 "nbformat_minor": 2
}
