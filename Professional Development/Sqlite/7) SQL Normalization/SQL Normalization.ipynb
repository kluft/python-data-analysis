{
 "cells": [
  {
   "cell_type": "code",
   "execution_count": 1,
   "metadata": {
    "collapsed": false
   },
   "outputs": [
    {
     "name": "stdout",
     "output_type": "stream",
     "text": [
      "Row:  1   (1, 'Actor -- Leading Role', 'Javier Bardem', 'Biutiful', 'Uxbal', 0, 1) \n",
      "\n",
      "Row:  2   (2, 'Actor -- Leading Role', 'Jeff Bridges', 'True Grit', 'Rooster Cogburn', 0, 1) \n",
      "\n",
      "Row:  3   (3, 'Actor -- Leading Role', 'Jesse Eisenberg', 'The Social Network', 'Mark Zuckerberg', 0, 1) \n",
      "\n",
      "Row:  4   (4, 'Actor -- Leading Role', 'Colin Firth', \"The King's Speech\", 'King George VI', 1, 1) \n",
      "\n",
      "Row:  5   (5, 'Actor -- Leading Role', 'James Franco', '127 Hours', 'Aron Ralston', 0, 1) \n",
      "\n",
      "Row:  6   (6, 'Actor -- Supporting Role', 'Christian Bale', 'The Fighter', 'Dicky Eklund', 1, 1) \n",
      "\n",
      "Row:  7   (7, 'Actor -- Supporting Role', 'John Hawkes', \"Winter's Bone\", 'Teardrop', 0, 1) \n",
      "\n",
      "Row:  8   (8, 'Actor -- Supporting Role', 'Jeremy Renner', 'The Town', 'James Coughlin', 0, 1) \n",
      "\n",
      "Row:  9   (9, 'Actor -- Supporting Role', 'Mark Ruffalo', 'The Kids Are All Right', 'Paul', 0, 1) \n",
      "\n",
      "Row:  10   (10, 'Actor -- Supporting Role', 'Geoffrey Rush', \"The King's Speech\", 'Lionel Logue', 0, 1) \n",
      "\n",
      "Schema:  (0, 'id', 'integer', 0, None, 1)\n",
      "Schema:  (1, 'category', 'text', 0, None, 0)\n",
      "Schema:  (2, 'nominee', 'text', 0, None, 0)\n",
      "Schema:  (3, 'movie', 'text', 0, None, 0)\n",
      "Schema:  (4, 'character', 'text', 0, None, 0)\n",
      "Schema:  (5, 'won', 'integer', 0, None, 0)\n",
      "Schema:  (6, 'ceremony_id', 'integer', 0, None, 0)\n"
     ]
    }
   ],
   "source": [
    "# Create a One-To-Many Sqlite3 table\n",
    "\n",
    "import sqlite3\n",
    "\n",
    "# Connect to sqlite database\n",
    "conn = sqlite3.connect('nominations.db')\n",
    "\n",
    "# Query the table for schema info\n",
    "query_table = \"pragma table_info(nominations);\"\n",
    "schema = conn.execute(query_table).fetchall()\n",
    "\n",
    "# Query the table for the first 10 instances\n",
    "query_first_ten = \"Select * from nominations Limit 10;\"\n",
    "first_ten = conn.execute(query_first_ten).fetchall()\n",
    "\n",
    "# Print out the elements row by row\n",
    "i = 1\n",
    "for row in first_ten:\n",
    "    print(\"Row: \", i ,\" \",row,'\\n')\n",
    "    i +=1\n",
    "\n",
    "for row in schema:\n",
    "    print(\"Schema: \", row)\n"
   ]
  },
  {
   "cell_type": "code",
   "execution_count": 2,
   "metadata": {
    "collapsed": false
   },
   "outputs": [
    {
     "ename": "OperationalError",
     "evalue": "table ceremonies already exists",
     "output_type": "error",
     "traceback": [
      "\u001b[1;31m\u001b[0m",
      "\u001b[1;31mOperationalError\u001b[0mTraceback (most recent call last)",
      "\u001b[1;32m<ipython-input-2-e308abfe0518>\u001b[0m in \u001b[0;36m<module>\u001b[1;34m()\u001b[0m\n\u001b[0;32m      9\u001b[0m  \u001b[0mHost\u001b[0m \u001b[0mtext\u001b[0m\u001b[1;33m\u001b[0m\u001b[0m\n\u001b[0;32m     10\u001b[0m );'''\n\u001b[1;32m---> 11\u001b[1;33m \u001b[0mconn\u001b[0m\u001b[1;33m.\u001b[0m\u001b[0mexecute\u001b[0m\u001b[1;33m(\u001b[0m\u001b[0mcreate_table\u001b[0m\u001b[1;33m)\u001b[0m\u001b[1;33m\u001b[0m\u001b[0m\n\u001b[0m\u001b[0;32m     12\u001b[0m \u001b[1;33m\u001b[0m\u001b[0m\n\u001b[0;32m     13\u001b[0m \u001b[1;31m# Populate new table with data\u001b[0m\u001b[1;33m\u001b[0m\u001b[1;33m\u001b[0m\u001b[0m\n",
      "\u001b[1;31mOperationalError\u001b[0m: table ceremonies already exists"
     ]
    }
   ],
   "source": [
    "# Create a one to many relationship by creating a new table that has\n",
    "# the host of each years ceremony that the nominations table can \n",
    "# reference.\n",
    "\n",
    "# Create new table\n",
    "create_table = '''CREATE TABLE ceremonies (\n",
    " id integer PRIMARY KEY,\n",
    " Year integer,\n",
    " Host text\n",
    ");'''\n",
    "conn.execute(create_table)\n",
    "\n",
    "# Populate new table with data\n",
    "years_hosts = [(2010, \"Steve Martin\"),\n",
    "               (2009, \"Hugh Jackman\"),\n",
    "               (2008, \"Jon Stewart\"),\n",
    "               (2007, \"Ellen DeGeneres\"),\n",
    "               (2006, \"Jon Stewart\"),\n",
    "               (2005, \"Chris Rock\"),\n",
    "               (2004, \"Billy Crystal\"),\n",
    "               (2003, \"Steve Martin\"),\n",
    "               (2002, \"Whoopi Goldberg\"),\n",
    "               (2001, \"Steve Martin\"),\n",
    "               (2000, \"Billy Crystal\"),\n",
    "            ]\n",
    "\n",
    "insert_query = \"Insert Into ceremonies (Year, Host) Values (?,?);\"\n",
    "conn.executemany(insert_query, years_hosts)\n",
    "\n",
    "# Check to see if all data was entered properly\n",
    "data_query = \"Select * from ceremonies Limit 10;\"\n",
    "print(conn.execute(data_query).fetchall())\n",
    "\n",
    "schema_query = \"pragma table_info(ceremonies);\"\n",
    "print(conn.execute(schema_query).fetchall())"
   ]
  },
  {
   "cell_type": "code",
   "execution_count": 17,
   "metadata": {
    "collapsed": false
   },
   "outputs": [
    {
     "data": {
      "text/plain": [
       "<sqlite3.Cursor at 0x7fe8fc2fc810>"
      ]
     },
     "execution_count": 17,
     "metadata": {},
     "output_type": "execute_result"
    }
   ],
   "source": [
    "# Turn on Foreign Key constraints, ensuring that if new data is \n",
    "# added to either table, the foreign key will map properly to the \n",
    "# corresponding table.\n",
    "\n",
    "pragma_fk_on = \"Pragma foreign_keys = On;\"\n",
    "\n",
    "conn.execute(pragma_fk_on)"
   ]
  },
  {
   "cell_type": "code",
   "execution_count": 16,
   "metadata": {
    "collapsed": false
   },
   "outputs": [
    {
     "data": {
      "text/plain": [
       "<sqlite3.Cursor at 0x7fe8fc34df10>"
      ]
     },
     "execution_count": 16,
     "metadata": {},
     "output_type": "execute_result"
    }
   ],
   "source": [
    "# We need to change elements in the nominations table allowing us \n",
    "# to connect the two tables togeter, with SQLITE however, that \n",
    "# means we are required to create a new table with the elements \n",
    "# we want. Then we can delete the old table.\n",
    "\n",
    "create_new_table = '''Create Table nominations_two (\n",
    "id integer Primary Key,\n",
    "category text,\n",
    "nominee text,\n",
    "movie text,\n",
    "character text,\n",
    "won integer,\n",
    "ceremony_id integer,\n",
    "FOREIGN KEY(ceremony_id) REFERENCES ceremonies(id)\n",
    ");'''\n",
    "\n",
    "conn.execute(create_new_table)"
   ]
  },
  {
   "cell_type": "code",
   "execution_count": 15,
   "metadata": {
    "collapsed": false
   },
   "outputs": [
    {
     "ename": "OperationalError",
     "evalue": "no such table: nominations",
     "output_type": "error",
     "traceback": [
      "\u001b[1;31m\u001b[0m",
      "\u001b[1;31mOperationalError\u001b[0mTraceback (most recent call last)",
      "\u001b[1;32m<ipython-input-15-2e0b96a065cf>\u001b[0m in \u001b[0;36m<module>\u001b[1;34m()\u001b[0m\n\u001b[0;32m      8\u001b[0m \u001b[0mnominations\u001b[0m\u001b[1;33m.\u001b[0m\u001b[0myear\u001b[0m \u001b[1;33m==\u001b[0m \u001b[0mceremonies\u001b[0m\u001b[1;33m.\u001b[0m\u001b[0myear\u001b[0m\u001b[1;33m;\u001b[0m\u001b[1;33m\u001b[0m\u001b[0m\n\u001b[0;32m      9\u001b[0m '''\n\u001b[1;32m---> 10\u001b[1;33m \u001b[0mjoined_nominations\u001b[0m \u001b[1;33m=\u001b[0m \u001b[0mconn\u001b[0m\u001b[1;33m.\u001b[0m\u001b[0mexecute\u001b[0m\u001b[1;33m(\u001b[0m\u001b[0mjoined_noms_query\u001b[0m\u001b[1;33m)\u001b[0m\u001b[1;33m.\u001b[0m\u001b[0mfetchall\u001b[0m\u001b[1;33m(\u001b[0m\u001b[1;33m)\u001b[0m\u001b[1;33m\u001b[0m\u001b[0m\n\u001b[0m\u001b[0;32m     11\u001b[0m \u001b[1;33m\u001b[0m\u001b[0m\n\u001b[0;32m     12\u001b[0m \u001b[1;31m# Create a placeholder statement and insert data from nominations\u001b[0m\u001b[1;33m\u001b[0m\u001b[1;33m\u001b[0m\u001b[0m\n",
      "\u001b[1;31mOperationalError\u001b[0m: no such table: nominations"
     ]
    }
   ],
   "source": [
    "# Gather data to insert into new table\n",
    "\n",
    "joined_noms_query = '''Select nominations.category, \n",
    "nominations.nominee, nominations.movie, nominations.character, \n",
    "nominations.won, ceremonies.id\n",
    "From nominations\n",
    "Inner Join ceremonies On\n",
    "nominations.year == ceremonies.year;\n",
    "'''\n",
    "joined_nominations = conn.execute(joined_noms_query).fetchall()\n",
    "\n",
    "# Create a placeholder statement and insert data from nominations\n",
    "# into nominations_two table\n",
    "place_holder_statement = '''Insert Into nominations_two (Category,\n",
    "Nominee,Movie,Character,Won,ceremony_id) Values (?,?,?,?,?,?);\n",
    "'''\n",
    "conn.executemany(place_holder_statement,joined_nominations)\n",
    "\n",
    "# Ensure data was inserted correctly\n",
    "query_5 = \"Select * from nominations_two Limit 5;\"\n",
    "print(conn.execute(query_5).fetchall())"
   ]
  },
  {
   "cell_type": "code",
   "execution_count": 14,
   "metadata": {
    "collapsed": false
   },
   "outputs": [
    {
     "ename": "OperationalError",
     "evalue": "no such table: nominations_two",
     "output_type": "error",
     "traceback": [
      "\u001b[1;31m\u001b[0m",
      "\u001b[1;31mOperationalError\u001b[0mTraceback (most recent call last)",
      "\u001b[1;32m<ipython-input-14-dd0f046fb530>\u001b[0m in \u001b[0;36m<module>\u001b[1;34m()\u001b[0m\n\u001b[0;32m      6\u001b[0m \u001b[1;31m# now that the old nominations has been deleted\u001b[0m\u001b[1;33m\u001b[0m\u001b[1;33m\u001b[0m\u001b[0m\n\u001b[0;32m      7\u001b[0m \u001b[0malter_noms2\u001b[0m \u001b[1;33m=\u001b[0m \u001b[1;34m\"Alter Table nominations_two Rename To nominations;\"\u001b[0m\u001b[1;33m\u001b[0m\u001b[0m\n\u001b[1;32m----> 8\u001b[1;33m \u001b[0mconn\u001b[0m\u001b[1;33m.\u001b[0m\u001b[0mexecute\u001b[0m\u001b[1;33m(\u001b[0m\u001b[0malter_noms2\u001b[0m\u001b[1;33m)\u001b[0m\u001b[1;33m\u001b[0m\u001b[0m\n\u001b[0m",
      "\u001b[1;31mOperationalError\u001b[0m: no such table: nominations_two"
     ]
    }
   ],
   "source": [
    "# Delete the old nominations table we no longer will be using\n",
    "drop_noms1 = \"Drop Table nominations;\"\n",
    "conn.execute(drop_noms1)\n",
    "\n",
    "# Alter the nominations_two folder and change name to nominations\n",
    "# now that the old nominations has been deleted\n",
    "alter_noms2 = \"Alter Table nominations_two Rename To nominations;\"\n",
    "conn.execute(alter_noms2)"
   ]
  },
  {
   "cell_type": "code",
   "execution_count": 12,
   "metadata": {
    "collapsed": false
   },
   "outputs": [
    {
     "ename": "OperationalError",
     "evalue": "table movies already exists",
     "output_type": "error",
     "traceback": [
      "\u001b[1;31m\u001b[0m",
      "\u001b[1;31mOperationalError\u001b[0mTraceback (most recent call last)",
      "\u001b[1;32m<ipython-input-12-86dde3625a16>\u001b[0m in \u001b[0;36m<module>\u001b[1;34m()\u001b[0m\n\u001b[0;32m     19\u001b[0m )'''\n\u001b[0;32m     20\u001b[0m \u001b[1;33m\u001b[0m\u001b[0m\n\u001b[1;32m---> 21\u001b[1;33m \u001b[0mconn\u001b[0m\u001b[1;33m.\u001b[0m\u001b[0mexecute\u001b[0m\u001b[1;33m(\u001b[0m\u001b[0mcreate_movies_table\u001b[0m\u001b[1;33m)\u001b[0m\u001b[1;33m\u001b[0m\u001b[0m\n\u001b[0m\u001b[0;32m     22\u001b[0m \u001b[0mconn\u001b[0m\u001b[1;33m.\u001b[0m\u001b[0mexecute\u001b[0m\u001b[1;33m(\u001b[0m\u001b[0mcreate_actors_table\u001b[0m\u001b[1;33m)\u001b[0m\u001b[1;33m\u001b[0m\u001b[0m\n\u001b[0;32m     23\u001b[0m \u001b[0mconn\u001b[0m\u001b[1;33m.\u001b[0m\u001b[0mexecute\u001b[0m\u001b[1;33m(\u001b[0m\u001b[0mcreate_join_table\u001b[0m\u001b[1;33m)\u001b[0m\u001b[1;33m\u001b[0m\u001b[0m\n",
      "\u001b[1;31mOperationalError\u001b[0m: table movies already exists"
     ]
    }
   ],
   "source": [
    "# Create a Many-To-Many Sqlite3 tables\n",
    "\n",
    "# Create all the tables and the join tables before populating them\n",
    "\n",
    "create_movies_table = '''Create Table movies (\n",
    "id integer Primary Key,\n",
    "movie text\n",
    ")'''\n",
    "create_actors_table = '''Create Table actors (\n",
    "id integer Primary Key,\n",
    "actor text\n",
    ")'''\n",
    "create_join_table = '''Create Table movies_actors (\n",
    "id integer Primary Key,\n",
    "movie_id integer,\n",
    "actor_id integer,\n",
    "Foreign Key(movie_id) References movies(id),\n",
    "Foreign Key(actor_id) References actors(id)\n",
    ")'''\n",
    "\n",
    "conn.execute(create_movies_table)\n",
    "conn.execute(create_actors_table)\n",
    "conn.execute(create_join_table)"
   ]
  },
  {
   "cell_type": "code",
   "execution_count": 8,
   "metadata": {
    "collapsed": false
   },
   "outputs": [
    {
     "data": {
      "text/plain": [
       "<sqlite3.Cursor at 0x7fe8fc33fea0>"
      ]
     },
     "execution_count": 8,
     "metadata": {},
     "output_type": "execute_result"
    }
   ],
   "source": [
    "\n",
    "# Populate movies table\n",
    "movies_query = \"Select nominations.movie from nominations;\"\n",
    "movie_names = conn.execute(movies_query).fetchall()\n",
    "\n",
    "movie_place_holder = \"Insert Into movies (movie) Values (?);\"\n",
    "conn.executemany(movie_place_holder, movie_names)\n",
    "\n",
    "# Populate actors table\n",
    "actors_query = \"Select nominations.nominee from nominations;\"\n",
    "actor_names = conn.execute(actors_query).fetchall()\n",
    "\n",
    "actor_place_holder = \"Insert Into actors (actor) Values (?);\"\n",
    "conn.executemany(actor_place_holder, actor_names)\n",
    "\n",
    "# Populate join table\n",
    "movies_actors_query = \"Select movie,nominee from nominations;\"\n",
    "movie_actor_names = conn.execute(movies_actors_query).fetchall()\n",
    "\n",
    "movie_actor_place_holder = '''Insert Into movies_actors \n",
    "(movie_id, actor_id) Values (\n",
    "(Select id from movies Where movie == ?),\n",
    "(Select id from actors Where actor == ?)\n",
    ");'''\n",
    "conn.executemany(movie_actor_place_holder, movie_actor_names)\n",
    "\n"
   ]
  },
  {
   "cell_type": "code",
   "execution_count": 11,
   "metadata": {
    "collapsed": false
   },
   "outputs": [
    {
     "name": "stdout",
     "output_type": "stream",
     "text": [
      "[(1, 1, 1), (2, 2, 2), (3, 3, 3), (4, 4, 4), (5, 5, 5), (6, 6, 6), (7, 7, 7), (8, 8, 8), (9, 9, 9), (10, 4, 10)]\n"
     ]
    }
   ],
   "source": [
    "# Now, let's check the data to make sure our join tables have worked!\n",
    "check_data_query = \"Select * from movies_actors Limit 10;\"\n",
    "check_data = conn.execute(check_data_query).fetchall()\n",
    "print(check_data)"
   ]
  },
  {
   "cell_type": "code",
   "execution_count": null,
   "metadata": {
    "collapsed": true
   },
   "outputs": [],
   "source": []
  }
 ],
 "metadata": {
  "kernelspec": {
   "display_name": "Python 3",
   "language": "python",
   "name": "python3"
  },
  "language_info": {
   "codemirror_mode": {
    "name": "ipython",
    "version": 3
   },
   "file_extension": ".py",
   "mimetype": "text/x-python",
   "name": "python",
   "nbconvert_exporter": "python",
   "pygments_lexer": "ipython3",
   "version": "3.4.3"
  }
 },
 "nbformat": 4,
 "nbformat_minor": 0
}
