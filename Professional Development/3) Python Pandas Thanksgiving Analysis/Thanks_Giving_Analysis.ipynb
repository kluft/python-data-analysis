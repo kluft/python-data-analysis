{
 "cells": [
  {
   "cell_type": "markdown",
   "metadata": {
    "collapsed": true
   },
   "source": [
    "# Analysis of American Thanksgiving using Pandas\n",
    "\n",
    "This analysis is based off of a dataset from FiveThirtyEight. This dataset is a individual response to a survey that included questions regarding the dishes served, location, and income. From here, we will be able to draw conclusions on the types of meals eaten during thanksgiving by geographical location and income. Let's see what we can find!"
   ]
  },
  {
   "cell_type": "code",
   "execution_count": 6,
   "metadata": {
    "collapsed": false
   },
   "outputs": [
    {
     "name": "stdout",
     "output_type": "stream",
     "text": [
      "Yes    980\n",
      "No      78\n",
      "Name: Do you celebrate Thanksgiving?, dtype: int64\n"
     ]
    }
   ],
   "source": [
    "import pandas as pd\n",
    "\n",
    "#import the thanksgiving.csv into a dataframe.\n",
    "data = pd.read_csv(\"thanksgiving.csv\", encoding=\"Latin-1\")\n",
    "\n",
    "\n",
    "#Here we can see that 980 out of the 1068 respondents celebrate thanksgiving and 78 that do not. \n",
    "counts = data[\"Do you celebrate Thanksgiving?\"].value_counts()\n",
    "print(counts)\n",
    "\n"
   ]
  },
  {
   "cell_type": "code",
   "execution_count": 12,
   "metadata": {
    "collapsed": false
   },
   "outputs": [
    {
     "name": "stdout",
     "output_type": "stream",
     "text": [
      "Turkey                    859\n",
      "Other (please specify)     35\n",
      "Ham/Pork                   29\n",
      "Tofurkey                   20\n",
      "Chicken                    12\n",
      "Roast beef                 11\n",
      "I don't know                5\n",
      "Turducken                   3\n",
      "Name: What is typically the main dish at your Thanksgiving dinner?, dtype: int64\n"
     ]
    }
   ],
   "source": [
    "#Let's now remove the values that do not celebrate Thanksgiving as we are\n",
    "#only interested in the \"Yes\" data\n",
    "\n",
    "yes_filter = data[\"Do you celebrate Thanksgiving?\"]==\"Yes\"\n",
    "#Only yes data is left\n",
    "data = data[yes_filter]\n",
    "\n",
    "\n",
    "#Let's find out what the main dishes response was, after running the code\n",
    "#we can see that the main dish is Turkey by far!\n",
    "main_dish_counts = data[\"What is typically the main dish at your Thanksgiving dinner?\"].value_counts()\n",
    "print(main_dish_counts)\n"
   ]
  },
  {
   "cell_type": "code",
   "execution_count": 15,
   "metadata": {
    "collapsed": false
   },
   "outputs": [
    {
     "name": "stdout",
     "output_type": "stream",
     "text": [
      "4      Yes\n",
      "33     Yes\n",
      "69      No\n",
      "72      No\n",
      "77     Yes\n",
      "145    Yes\n",
      "175    Yes\n",
      "218     No\n",
      "243    Yes\n",
      "275     No\n",
      "393    Yes\n",
      "399    Yes\n",
      "571    Yes\n",
      "594    Yes\n",
      "628     No\n",
      "774     No\n",
      "820     No\n",
      "837    Yes\n",
      "860     No\n",
      "953    Yes\n",
      "Name: Do you typically have gravy?, dtype: object\n"
     ]
    }
   ],
   "source": [
    "#For fun, let's see how many respondents also have Gravy when they have Tofurkey.\n",
    "\n",
    "tofurkey_filter = data[\"What is typically the main dish at your Thanksgiving dinner?\"] == \"Tofurkey\"\n",
    "gravy_tofurkey = data[tofurkey_filter][\"Do you typically have gravy?\"]\n",
    "\n",
    "#When printed, we can see roughly 3:2 ratio of \"Yes\" to \"No\"\n",
    "print(gravy_tofurkey)\n"
   ]
  },
  {
   "cell_type": "code",
   "execution_count": 28,
   "metadata": {
    "collapsed": false
   },
   "outputs": [
    {
     "name": "stdout",
     "output_type": "stream",
     "text": [
      "False    876\n",
      "True     104\n",
      "dtype: int64\n"
     ]
    }
   ],
   "source": [
    "#Let's now look at desserts. Specifically, how many people eat Apple, Pecan, and pumpkin during thanksgiving\n",
    "\n",
    "apple_isnull = data[\"Which type of pie is typically served at your Thanksgiving dinner? Please select all that apply. - Apple\"].isnull()\n",
    "pumpkin_isnull = data[\"Which type of pie is typically served at your Thanksgiving dinner? Please select all that apply. - Pumpkin\"].isnull()\n",
    "pecan_isnull = data[\"Which type of pie is typically served at your Thanksgiving dinner? Please select all that apply. - Pecan\"].isnull()\n",
    "\n",
    "\n",
    "ate_pies = apple_isnull & pumpkin_isnull & pecan_isnull\n",
    "#We can see that 104 respondents eat all three pies\n",
    "print(ate_pies.value_counts())"
   ]
  },
  {
   "cell_type": "code",
   "execution_count": 125,
   "metadata": {
    "collapsed": false
   },
   "outputs": [
    {
     "name": "stdout",
     "output_type": "stream",
     "text": [
      "45    269\n",
      "60    258\n",
      "30    235\n",
      "18    185\n",
      "Name: int_age, dtype: int64\n"
     ]
    }
   ],
   "source": [
    "#We can now look at the age column, but first we will need to clean up this data slightly.\n",
    "def age_to_int(row):\n",
    "    #print(row.to_string())\n",
    "    \n",
    "    row_age = row[\"Age\"]\n",
    "    #print(type(row_age))\n",
    "    if pd.isnull(row_age):\n",
    "        return None\n",
    "    elif \"+\" in row_age:\n",
    "        first_item = row_age.replace(\"+\", \"\")\n",
    "    else:\n",
    "        first_item = row_age.split(\" \",1)[0]\n",
    "    return first_item\n",
    "    \n",
    "data[\"int_age\"] = data.apply(age_to_int, axis=1)\n",
    "\n",
    "print(data[\"int_age\"].value_counts())\n",
    "\n",
    "    "
   ]
  },
  {
   "cell_type": "markdown",
   "metadata": {},
   "source": [
    "Using these values we see one main glaringly inaccurate thing, the numbers of ages seem way off:\n",
    "\n",
    "This is a problem with the sampling model. There is a greater number respondents in the older brackets, than the younger bracket. This is not a true representative of the 18-29 year old population as there would likely be fewer that respond to this survey. No conclusions can be drawn from this data at this point.\n"
   ]
  },
  {
   "cell_type": "code",
   "execution_count": 137,
   "metadata": {
    "collapsed": false
   },
   "outputs": [
    {
     "name": "stdout",
     "output_type": "stream",
     "text": [
      "25000.0     166\n",
      "75000.0     127\n",
      "50000.0     127\n",
      "100000.0    109\n",
      "200000.0     76\n",
      "10000.0      60\n",
      "0.0          52\n",
      "125000.0     48\n",
      "150000.0     38\n",
      "175000.0     26\n",
      "Name: int_income, dtype: int64\n"
     ]
    }
   ],
   "source": [
    "#Let's now look at income bracket to see if we can see any trends\n",
    "\n",
    "def income_to_int(row):\n",
    "\n",
    "    \n",
    "    row_age = row[\"How much total combined money did all members of your HOUSEHOLD earn last year?\"]\n",
    "\n",
    "    if pd.isnull(row_age):\n",
    "        return None\n",
    "    else:\n",
    "        first_item = row_age.split(\" \",1)[0]\n",
    "        if \"Prefer\" in first_item:\n",
    "            return None\n",
    "        first_item = first_item.replace(\"$\",\"\").replace(\",\",\"\")\n",
    "        first_item = int(first_item)\n",
    "    return first_item\n",
    "    \n",
    "data[\"int_income\"] = data.apply(income_to_int, axis=1)\n",
    "print(data[\"int_income\"].value_counts())"
   ]
  },
  {
   "cell_type": "markdown",
   "metadata": {},
   "source": [
    "Looking at this data, it doesn't seem representative of the survey population. We can almost be 100% certain that no one has $0.0 of household income. That is a dead give away that our method is incorrect. "
   ]
  },
  {
   "cell_type": "code",
   "execution_count": 140,
   "metadata": {
    "collapsed": false
   },
   "outputs": [
    {
     "name": "stdout",
     "output_type": "stream",
     "text": [
      "Thanksgiving is happening at my home--I won't travel at all                         281\n",
      "Thanksgiving is local--it will take place in the town I live in                     203\n",
      "Thanksgiving is out of town but not too far--it's a drive of a few hours or less    150\n",
      "Thanksgiving is out of town and far away--I have to drive several hours or fly       55\n",
      "Name: How far will you travel for Thanksgiving?, dtype: int64\n",
      "Thanksgiving is happening at my home--I won't travel at all                         49\n",
      "Thanksgiving is local--it will take place in the town I live in                     25\n",
      "Thanksgiving is out of town but not too far--it's a drive of a few hours or less    16\n",
      "Thanksgiving is out of town and far away--I have to drive several hours or fly      12\n",
      "Name: How far will you travel for Thanksgiving?, dtype: int64\n"
     ]
    }
   ],
   "source": [
    "#Now let's see if we can find a correlation between distance travelled and income.\n",
    "#The hypothesis would be that as a lower income earner you are probably going to \n",
    "#travel farther for thanksgiving instead of being able to host your own party.\n",
    "\n",
    "less_150000 = (data[\"int_income\"] < 150000)\n",
    "greater_150000 = (data[\"int_income\"] > 150000)\n",
    "\n",
    "print(data[less_150000][\"How far will you travel for Thanksgiving?\"].value_counts())\n",
    "print(data[greater_150000][\"How far will you travel for Thanksgiving?\"].value_counts())"
   ]
  },
  {
   "cell_type": "markdown",
   "metadata": {},
   "source": [
    "Well, it seems our hypothesis was wrong. It looks like the numbers are similar when you compare their percentages. It seems that no matter what income you have, the breakout down looks to be fairly consistent."
   ]
  },
  {
   "cell_type": "code",
   "execution_count": 173,
   "metadata": {
    "collapsed": false
   },
   "outputs": [
    {
     "name": "stdout",
     "output_type": "stream",
     "text": [
      "Have you ever attended a \"Friendsgiving?\"                  No        Yes\n",
      "Have you ever tried to meet up with hometown fr...                      \n",
      "No                                                  42.283702  37.010526\n",
      "Yes                                                 41.475410  33.976744\n"
     ]
    },
    {
     "data": {
      "text/html": [
       "<div>\n",
       "<table border=\"1\" class=\"dataframe\">\n",
       "  <thead>\n",
       "    <tr style=\"text-align: right;\">\n",
       "      <th>Have you ever attended a \"Friendsgiving?\"</th>\n",
       "      <th>No</th>\n",
       "      <th>Yes</th>\n",
       "    </tr>\n",
       "    <tr>\n",
       "      <th>Have you ever tried to meet up with hometown friends on Thanksgiving night?</th>\n",
       "      <th></th>\n",
       "      <th></th>\n",
       "    </tr>\n",
       "  </thead>\n",
       "  <tbody>\n",
       "    <tr>\n",
       "      <th>No</th>\n",
       "      <td>78914.549654</td>\n",
       "      <td>72894.736842</td>\n",
       "    </tr>\n",
       "    <tr>\n",
       "      <th>Yes</th>\n",
       "      <td>78750.000000</td>\n",
       "      <td>66019.736842</td>\n",
       "    </tr>\n",
       "  </tbody>\n",
       "</table>\n",
       "</div>"
      ],
      "text/plain": [
       "Have you ever attended a \"Friendsgiving?\"                     No           Yes\n",
       "Have you ever tried to meet up with hometown fr...                            \n",
       "No                                                  78914.549654  72894.736842\n",
       "Yes                                                 78750.000000  66019.736842"
      ]
     },
     "execution_count": 173,
     "metadata": {},
     "output_type": "execute_result"
    }
   ],
   "source": [
    "#Now let's look at the data pertaining to \"Friendsgivings\" and meeting with hometown friends on thanksgiving night.\n",
    "#The hypothesis here is that this pertains more towards younger people.\n",
    "#print(data[\"Have you ever tried to meet up with hometown friends on Thanksgiving night?\"])\n",
    "data[\"int_age\"] = data[\"int_age\"].astype(float)\n",
    "\n",
    "\n",
    "print(pd.pivot_table(data,index=\"Have you ever tried to meet up with hometown friends on Thanksgiving night?\", columns='Have you ever attended a \"Friendsgiving?\"',values=\"int_age\"))\n",
    "pd.pivot_table(data,index=\"Have you ever tried to meet up with hometown friends on Thanksgiving night?\", columns='Have you ever attended a \"Friendsgiving?\"',values=\"int_income\")\n"
   ]
  },
  {
   "cell_type": "markdown",
   "metadata": {
    "collapsed": true
   },
   "source": [
    "Using these results we can see our hypothesis is somewhat correct. The most representative is where we see someone attending a \"Friendsgiving\" AND a meeting up with friends on Thanksgiving night. the Average age is 33.97 where as with both no"
   ]
  }
 ],
 "metadata": {
  "kernelspec": {
   "display_name": "Python 3",
   "language": "python",
   "name": "python3"
  },
  "language_info": {
   "codemirror_mode": {
    "name": "ipython",
    "version": 3
   },
   "file_extension": ".py",
   "mimetype": "text/x-python",
   "name": "python",
   "nbconvert_exporter": "python",
   "pygments_lexer": "ipython3",
   "version": "3.4.3"
  }
 },
 "nbformat": 4,
 "nbformat_minor": 0
}
