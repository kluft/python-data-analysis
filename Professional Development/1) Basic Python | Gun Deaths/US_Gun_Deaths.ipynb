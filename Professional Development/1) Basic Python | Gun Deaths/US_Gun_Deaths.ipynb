{
 "cells": [
  {
   "cell_type": "markdown",
   "metadata": {},
   "source": [
    "# Exploring Gun Deaths in the US\n",
    "\n",
    "Let's analyze some data that relates to gun deaths in the US."
   ]
  },
  {
   "cell_type": "code",
   "execution_count": 2,
   "metadata": {
    "collapsed": false
   },
   "outputs": [
    {
     "name": "stdout",
     "output_type": "stream",
     "text": [
      "{'Hispanic': 9022, 'Black': 23296, 'White': 66237, 'Asian/Pacific Islander': 1326, 'Native American/Native Alaskan': 917}\n",
      "{'M': 86349, 'F': 14449}\n"
     ]
    }
   ],
   "source": [
    "import csv\n",
    "import datetime\n",
    "\n",
    "# import data file\n",
    "f = open(\"guns.csv\", 'r')\n",
    "data = list(csv.reader(f))\n",
    "f.close()\n",
    "# remove headers row\n",
    "headers = data[0]\n",
    "data = data[1:]\n",
    "#print(data)\n",
    "\n",
    "# Let's find out how many instances of gun deaths occur each year\n",
    "year_counts = {}\n",
    "years = list(years[1] for years in data)\n",
    "for year in years:\n",
    "    if year in year_counts:\n",
    "        year_counts[year] += 1\n",
    "    else:\n",
    "        year_counts[year] = 1\n",
    "\n",
    "#print(year_counts)\n",
    "\n",
    "\n",
    "# Not much variability here.. how about we look on a monthly basis\n",
    "date_counts = {}\n",
    "\n",
    "dates = list(datetime.datetime(year=int(row[1]), month=int(row[2]), day=1) for row in data)\n",
    "\n",
    "for date in dates:\n",
    "    if date.strftime(\"%d-%m-%y\") in date_counts:\n",
    "        date_counts[date.strftime(\"%d-%m-%y\")] += 1\n",
    "    else:\n",
    "        date_counts[date.strftime(\"%d-%m-%y\")] = 1    \n",
    "#print(date_counts)  \n",
    "        \n",
    "# Now let's do the same with sex and race\n",
    "\n",
    "sex_counts = {}\n",
    "\n",
    "sexes = list(sex[5] for sex in data)\n",
    "for sex in sexes:\n",
    "    if sex in sex_counts:\n",
    "        sex_counts[sex] += 1\n",
    "    else:\n",
    "        sex_counts[sex] = 1\n",
    "        \n",
    "race_counts = {}\n",
    "\n",
    "races = list(race[7] for race in data)\n",
    "for race in races:\n",
    "    if race in race_counts:\n",
    "        race_counts[race] += 1\n",
    "    else:\n",
    "        race_counts[race] = 1\n",
    "\n",
    "print(race_counts)\n",
    "print(sex_counts)"
   ]
  },
  {
   "cell_type": "markdown",
   "metadata": {
    "collapsed": true
   },
   "source": [
    "Using this data set, it seems that many more males are killed due to gun violence each year and that white individuals are 3x more likely than the next nearest race, which are black individuals.\n",
    "\n",
    "Something that we should look into more is the population of each race. Without this, we can't make any more meaningful conclusions or make any true statements without understanding the full scope of the problem.\n",
    "\n",
    "Lets do that now:"
   ]
  },
  {
   "cell_type": "code",
   "execution_count": 10,
   "metadata": {
    "collapsed": false
   },
   "outputs": [
    {
     "name": "stdout",
     "output_type": "stream",
     "text": [
      "{'Hispanic': 5634, 'Native American/Native Alaskan': 326, 'Asian/Pacific Islander': 559, 'White': 9147, 'Black': 19510}\n",
      "{'Hispanic': 12.627161104219914, 'Native American/Native Alaskan': 8.717729026240365, 'Asian/Pacific Islander': 3.386079855998928, 'White': 4.6356417981453335, 'Black': 48.471284987180944}\n"
     ]
    }
   ],
   "source": [
    "f = open(\"census.csv\", 'r')\n",
    "census = list(csv.reader(f))\n",
    "f.close()\n",
    "#print(census)\n",
    "\n",
    "mapping = {\"Asian/Pacific Islander\":16508766, \"Black\":40250635, \"Native American/Native Alaskan\":3739506, \"Hispanic\":44618105,\"White\":197318956}\n",
    "race_per_hundredk = {}\n",
    "\n",
    "for race in race_counts:\n",
    "    race_per_hundredk[race] = race_counts[race]/ mapping[race]*100000\n",
    "    \n",
    "# Let's now look at the intent column to see what other conclusions we can draw\n",
    "\n",
    "intents = list(intent[3] for intent in data)\n",
    "\n",
    "races = list(race[7] for race in data)\n",
    "\n",
    "homicide_race_per_hundredk = {}\n",
    "#print(races)\n",
    "for i, race in enumerate(races):\n",
    "    if intents[i] == \"Homicide\":\n",
    "        if race in homicide_race_per_hundredk:\n",
    "            homicide_race_per_hundredk[race] += 1\n",
    "        else:\n",
    "            homicide_race_per_hundredk[race] = 1\n",
    "print(homicide_race_per_hundredk)        \n",
    "for race in homicide_race_per_hundredk:\n",
    "    homicide_race_per_hundredk[race] = homicide_race_per_hundredk[race]/ mapping[race]*100000   \n",
    "\n",
    "print(homicide_race_per_hundredk)\n",
    "\n",
    "    \n",
    "    "
   ]
  },
  {
   "cell_type": "markdown",
   "metadata": {
    "collapsed": true
   },
   "source": [
    "It turns out that the largest homicide values are related to Black ethnicity, by almost a factor of 4 when compared to the next closest value. when taking in the population of each race in the United States. Needless to say, something needs to be done about this!!!"
   ]
  },
  {
   "cell_type": "code",
   "execution_count": null,
   "metadata": {
    "collapsed": true
   },
   "outputs": [],
   "source": []
  }
 ],
 "metadata": {
  "kernelspec": {
   "display_name": "Python 3",
   "language": "python",
   "name": "python3"
  },
  "language_info": {
   "codemirror_mode": {
    "name": "ipython",
    "version": 3
   },
   "file_extension": ".py",
   "mimetype": "text/x-python",
   "name": "python",
   "nbconvert_exporter": "python",
   "pygments_lexer": "ipython3",
   "version": "3.4.3"
  }
 },
 "nbformat": 4,
 "nbformat_minor": 0
}
