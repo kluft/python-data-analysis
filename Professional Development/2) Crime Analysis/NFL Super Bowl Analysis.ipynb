{
 "cells": [
  {
   "cell_type": "markdown",
   "metadata": {},
   "source": [
    "# Recognizing Patterns in Crime\n",
    "\n",
    "In this analysis I will be analyzing Super Bowl data to look at several topics more in-depth:\n",
    "\n",
    "1) Which team has won the most super bowls? The least? Which team has been to the super bowl final the most? The least?\n",
    "\n",
    "2) How has super bowl attendance changed over time? Let's explore this graphically as well\n",
    "\n",
    "3) Which coaches have been the most successful? Does winning the most super bowl make you successful or does making it to the the final more require a better coach? Let's explore this further.\n",
    "\n",
    "4) Which states have hosted the super bowl?\n",
    "\n",
    "5) How have ticket prices increased over the years?\n",
    "\n",
    "Let's get into the nitty gritty!"
   ]
  },
  {
   "cell_type": "code",
   "execution_count": null,
   "metadata": {
    "collapsed": true
   },
   "outputs": [],
   "source": []
  }
 ],
 "metadata": {
  "kernelspec": {
   "display_name": "Python 3",
   "language": "python",
   "name": "python3"
  },
  "language_info": {
   "codemirror_mode": {
    "name": "ipython",
    "version": 3
   },
   "file_extension": ".py",
   "mimetype": "text/x-python",
   "name": "python",
   "nbconvert_exporter": "python",
   "pygments_lexer": "ipython3",
   "version": "3.6.1"
  }
 },
 "nbformat": 4,
 "nbformat_minor": 2
}
